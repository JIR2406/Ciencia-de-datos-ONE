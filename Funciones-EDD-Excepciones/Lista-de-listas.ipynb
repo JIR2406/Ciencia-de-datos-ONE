{
 "cells": [
  {
   "metadata": {},
   "cell_type": "markdown",
   "source": [
    "# Estructuras de datos compuestas\n",
    "### 3.1 Estructuras anidadas\n",
    "- Ejemplo de una `lista de listas`\n",
    "\n",
    "Formato estándar:\n",
    "```python\n",
    "lista = [ [elemento1, elemento2, ...], [elemento1, elemento2, ...], ... ]\n",
    "```"
   ],
   "id": "b6a2cd14aae08e30"
  },
  {
   "metadata": {},
   "cell_type": "markdown",
   "source": [
    "#### Situación 6:\n",
    "Recibimos la demanda de transformar una lista con los nombres y las notas de tres trimestres de algunos estudiantes en una lista simple, con los nombres separados de las notas, y una lista con las tres notas de cada estudiante separadas entre sí.\n",
    "Los datos recibidos corresponden a una lista con los nombres y las respectivas notas de cada estudiante.\n",
    "\n",
    "¿Vamos a resolver este desafío?"
   ],
   "id": "3be9e71f4ef8c895"
  },
  {
   "metadata": {
    "ExecuteTime": {
     "end_time": "2025-10-21T16:25:08.038222Z",
     "start_time": "2025-10-21T16:25:08.030038Z"
    }
   },
   "cell_type": "code",
   "source": "notas_grupo = ['Juan', 8.0, 9.0, 10.0, 'Maria', 9.0, 7.0, 6.0, 'José', 3.4, 7.0, 7.0, 'Claudia', 5.5, 6.6, 8.0, 'Ana', 6.0, 10.0, 9.5]",
   "id": "54be6878176b7eb9",
   "outputs": [],
   "execution_count": 3
  },
  {
   "metadata": {
    "ExecuteTime": {
     "end_time": "2025-10-21T16:31:47.510615Z",
     "start_time": "2025-10-21T16:31:47.496731Z"
    }
   },
   "cell_type": "code",
   "source": [
    "notas_grupos = {}\n",
    "notas = []\n",
    "aux = \"\"\n",
    "for i in range(len(notas_grupo)):\n",
    "    if len(notas) == 3:\n",
    "        notas_grupos[aux] = notas\n",
    "        notas = []\n",
    "    if i % 4 == 0:\n",
    "        aux = notas_grupo[i]\n",
    "    else:\n",
    "        notas.append(notas_grupo[i])\n",
    "\n",
    "\n",
    "print(notas_grupos)"
   ],
   "id": "f12061fab6c5ee0e",
   "outputs": [
    {
     "name": "stdout",
     "output_type": "stream",
     "text": [
      "{'Juan': [8.0, 9.0, 10.0], 'Maria': [9.0, 7.0, 6.0], 'José': [3.4, 7.0, 7.0], 'Claudia': [5.5, 6.6, 8.0]}\n"
     ]
    }
   ],
   "execution_count": 6
  }
 ],
 "metadata": {
  "kernelspec": {
   "display_name": "Python 3",
   "language": "python",
   "name": "python3"
  },
  "language_info": {
   "codemirror_mode": {
    "name": "ipython",
    "version": 2
   },
   "file_extension": ".py",
   "mimetype": "text/x-python",
   "name": "python",
   "nbconvert_exporter": "python",
   "pygments_lexer": "ipython2",
   "version": "2.7.6"
  }
 },
 "nbformat": 4,
 "nbformat_minor": 5
}
