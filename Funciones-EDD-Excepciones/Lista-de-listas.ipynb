{
 "cells": [
  {
   "metadata": {},
   "cell_type": "markdown",
   "source": [
    "# Estructuras de datos compuestas\n",
    "### 3.1 Estructuras anidadas\n",
    "- Ejemplo de una `lista de listas`\n",
    "\n",
    "Formato estándar:\n",
    "```python\n",
    "lista = [ [elemento1, elemento2, ...], [elemento1, elemento2, ...], ... ]\n",
    "```"
   ],
   "id": "b6a2cd14aae08e30"
  },
  {
   "metadata": {},
   "cell_type": "markdown",
   "source": [
    "#### Situación 6:\n",
    "Recibimos la demanda de transformar una lista con los nombres y las notas de tres trimestres de algunos estudiantes en una lista simple, con los nombres separados de las notas, y una lista con las tres notas de cada estudiante separadas entre sí.\n",
    "Los datos recibidos corresponden a una lista con los nombres y las respectivas notas de cada estudiante.\n",
    "\n",
    "¿Vamos a resolver este desafío?"
   ],
   "id": "3be9e71f4ef8c895"
  }
 ],
 "metadata": {
  "kernelspec": {
   "display_name": "Python 3",
   "language": "python",
   "name": "python3"
  },
  "language_info": {
   "codemirror_mode": {
    "name": "ipython",
    "version": 2
   },
   "file_extension": ".py",
   "mimetype": "text/x-python",
   "name": "python",
   "nbconvert_exporter": "python",
   "pygments_lexer": "ipython2",
   "version": "2.7.6"
  }
 },
 "nbformat": 4,
 "nbformat_minor": 5
}
