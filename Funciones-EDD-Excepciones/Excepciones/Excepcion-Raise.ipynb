{
 "cells": [
  {
   "metadata": {},
   "cell_type": "markdown",
   "source": [
    "# 4.2 Raise\n",
    "Otra forma de trabajar con las excepciones en el codigo, es generando tus propias excepciones para determinados comportamientos que deseas en tu código.\n",
    "Para ello se utiliza la palabra clave `raise` junto al tipo de excepción que se desea mostrar y el mensaje que será exhibido."
   ],
   "id": "39d7f79349b1b11"
  },
  {
   "metadata": {
    "ExecuteTime": {
     "end_time": "2025-10-22T01:24:54.152718Z",
     "start_time": "2025-10-22T01:24:53.661572Z"
    }
   },
   "cell_type": "code",
   "source": "raise ValueError(\"Este es un error personalizado de tipo ValueError\")",
   "id": "3506937be7837998",
   "outputs": [
    {
     "ename": "ValueError",
     "evalue": "Este es un error personalizado de tipo ValueError",
     "output_type": "error",
     "traceback": [
      "\u001B[31m---------------------------------------------------------------------------\u001B[39m",
      "\u001B[31mValueError\u001B[39m                                Traceback (most recent call last)",
      "\u001B[36mCell\u001B[39m\u001B[36m \u001B[39m\u001B[32mIn[1]\u001B[39m\u001B[32m, line 1\u001B[39m\n\u001B[32m----> \u001B[39m\u001B[32m1\u001B[39m \u001B[38;5;28;01mraise\u001B[39;00m \u001B[38;5;167;01mValueError\u001B[39;00m(\u001B[33m\"\u001B[39m\u001B[33mEste es un error personalizado de tipo ValueError\u001B[39m\u001B[33m\"\u001B[39m)\n",
      "\u001B[31mValueError\u001B[39m: Este es un error personalizado de tipo ValueError"
     ]
    }
   ],
   "execution_count": 1
  }
 ],
 "metadata": {
  "kernelspec": {
   "display_name": "Python 3",
   "language": "python",
   "name": "python3"
  },
  "language_info": {
   "codemirror_mode": {
    "name": "ipython",
    "version": 2
   },
   "file_extension": ".py",
   "mimetype": "text/x-python",
   "name": "python",
   "nbconvert_exporter": "python",
   "pygments_lexer": "ipython2",
   "version": "2.7.6"
  }
 },
 "nbformat": 4,
 "nbformat_minor": 5
}
