{
 "cells": [
  {
   "metadata": {},
   "cell_type": "markdown",
   "source": [
    "## Manejo de Excepciones en Python: `try...except`\n",
    "\n",
    "El bloque `try...except` se utiliza para manejar errores (excepciones) que pueden ocurrir durante la ejecución de un programa, permitiendo que el script continúe en lugar de detenerse abruptamente.\n",
    "\n",
    "### Puntos Clave\n",
    "\n",
    "* `try`: Este bloque contiene el código que **intentarás** ejecutar, el cual es susceptible a fallar.\n",
    "* `except`: Si ocurre una excepción dentro del bloque `try`, la ejecución salta a este bloque.\n",
    "    * **Captura Específica**: Es la mejor práctica. Capturas solo el error que esperas.\n",
    "        ```python\n",
    "        try:\n",
    "            resultado = 10 / 0\n",
    "        except ZeroDivisionError:\n",
    "            print(\"¡Error! No puedes dividir por cero.\")\n",
    "        ```\n",
    "    * **Captura Genérica**: Puedes capturar cualquier excepción usando `Exception`. Es útil, pero puede ocultar errores que no esperabas.\n",
    "        ```python\n",
    "        try:\n",
    "            # Código propenso a errores\n",
    "            x = int(\"hola\")\n",
    "        except Exception as e:\n",
    "            print(f\"Ocurrió un error inesperado: {e}\")\n",
    "        ```\n",
    "* `else` (Opcional): Este bloque se ejecuta **solamente si no ocurrió ninguna excepción** en el bloque `try`. Es útil para el código que debe correr solo si el `try` fue exitoso.\n",
    "* `finally` (Opcional): Este bloque se ejecuta **siempre**, sin importar si hubo una excepción o no. Se usa comúnmente para \"limpiar\" recursos, como cerrar archivos o conexiones de red."
   ],
   "id": "13c168ce663d82f7"
  },
  {
   "cell_type": "code",
   "id": "initial_id",
   "metadata": {
    "collapsed": true,
    "ExecuteTime": {
     "end_time": "2025-10-22T00:36:45.487789Z",
     "start_time": "2025-10-22T00:36:41.914592Z"
    }
   },
   "source": [
    "### Ejemplo Completo\n",
    "\n",
    "try:\n",
    "    # 1. Intentamos esto:\n",
    "    numero = int(input(\"Ingresa un número: \"))\n",
    "    resultado = 100 / numero\n",
    "\n",
    "except ValueError:\n",
    "    # 2. Se ejecuta si el usuario no ingresa un número (ej. \"abc\")\n",
    "    print(\"Error: Debes ingresar un valor numérico.\")\n",
    "\n",
    "except ZeroDivisionError:\n",
    "    # 2. Se ejecuta si el usuario ingresa 0\n",
    "    print(\"Error: No se puede dividir por cero.\")\n",
    "\n",
    "except Exception as e:\n",
    "    # 2. Captura cualquier otro error inesperado\n",
    "    print(f\"Ocurrió un error no identificado: {e}\")\n",
    "\n",
    "else:\n",
    "    # 3. Se ejecuta si no hubo errores (try exitoso)\n",
    "    print(f\"El resultado es: {resultado}\")\n",
    "\n",
    "finally:\n",
    "    # 4. Se ejecuta siempre\n",
    "    print(\"El bloque try-except ha finalizado.\")\n"
   ],
   "outputs": [
    {
     "name": "stdout",
     "output_type": "stream",
     "text": [
      "El resultado es: 14.285714285714286\n",
      "El bloque try-except ha finalizado.\n"
     ]
    }
   ],
   "execution_count": 1
  }
 ],
 "metadata": {
  "kernelspec": {
   "display_name": "Python 3",
   "language": "python",
   "name": "python3"
  },
  "language_info": {
   "codemirror_mode": {
    "name": "ipython",
    "version": 2
   },
   "file_extension": ".py",
   "mimetype": "text/x-python",
   "name": "python",
   "nbconvert_exporter": "python",
   "pygments_lexer": "ipython2",
   "version": "2.7.6"
  }
 },
 "nbformat": 4,
 "nbformat_minor": 5
}
