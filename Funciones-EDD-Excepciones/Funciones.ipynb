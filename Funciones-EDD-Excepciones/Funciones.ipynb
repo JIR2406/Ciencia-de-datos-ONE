{
 "cells": [
  {
   "metadata": {},
   "cell_type": "markdown",
   "source": "### ¿Qué son las funciones en Python?",
   "id": "65a5863aa78ec7ab"
  },
  {
   "metadata": {},
   "cell_type": "markdown",
   "source": [
    "- Secuencias de instrucciones que pueden ser empleadas en diversas partes del código.\n",
    "- Pueden o no recibir parámetros en entrada (inputs) y retornar valores."
   ],
   "id": "aaa4cf8e029fa7ad"
  },
  {
   "metadata": {},
   "cell_type": "markdown",
   "source": "### ¿Qué son las funciones built-in?",
   "id": "8b96c988db12a43a"
  },
  {
   "metadata": {},
   "cell_type": "markdown",
   "source": [
    "- Son funciones predefinidas en Python.\n",
    "- No es necesario importarlas para invocarlas en cualquier momento.\n",
    "- Algunos ejemplos de funciones incorporadas son: type(), print(), sum(), map(), etc."
   ],
   "id": "709e9c4a1f7a60f"
  },
  {
   "metadata": {},
   "cell_type": "markdown",
   "source": [
    "### Situación 1:\n",
    "La institución educativa para la cual nos encontramos trabajando compartió los datos de las notas de un estudiante para que pudiésemos calcular su promedio con una casilla decimal.\n",
    "\n",
    "Los datos recibidos corresponden a un diccionario cuyas llaves indican el trimestre en cuestión y sus valores corresponden a las notas de cada trimestre del estudiante en una respectiva materia."
   ],
   "id": "2f6acafeb02e5bfb"
  },
  {
   "metadata": {
    "ExecuteTime": {
     "end_time": "2025-10-16T05:29:00.858928Z",
     "start_time": "2025-10-16T05:29:00.841618Z"
    }
   },
   "cell_type": "code",
   "source": "notas = {'1° Trimestre':9.5, '2° Trimestre':8, '3° Trimestre':7}",
   "id": "100eb78efb36d934",
   "outputs": [],
   "execution_count": 1
  },
  {
   "metadata": {
    "ExecuteTime": {
     "end_time": "2025-10-16T01:48:31.473854Z",
     "start_time": "2025-10-16T01:48:31.466306Z"
    }
   },
   "cell_type": "code",
   "source": [
    "suma = 0\n",
    "for index,value in notas.items():\n",
    "    suma += value\n",
    "promedio = suma / len(notas)\n",
    "print(f'El promedio del estudiante es: {promedio:.1f}')"
   ],
   "id": "5e1a01eafcda1ad0",
   "outputs": [
    {
     "name": "stdout",
     "output_type": "stream",
     "text": [
      "El promedio del estudiante es: 8.2\n"
     ]
    }
   ],
   "execution_count": 3
  },
  {
   "metadata": {
    "ExecuteTime": {
     "end_time": "2025-10-16T01:49:48.510835Z",
     "start_time": "2025-10-16T01:49:48.499242Z"
    }
   },
   "cell_type": "code",
   "source": [
    "promedio = sum(notas.values()) / len(notas)\n",
    "print(f'El promedio del estudiante es: {promedio:.1f}')"
   ],
   "id": "3078d20006a0916",
   "outputs": [
    {
     "name": "stdout",
     "output_type": "stream",
     "text": [
      "El promedio del estudiante es: 8.2\n"
     ]
    }
   ],
   "execution_count": 5
  },
  {
   "metadata": {
    "ExecuteTime": {
     "end_time": "2025-10-16T01:50:31.395717Z",
     "start_time": "2025-10-16T01:50:31.386718Z"
    }
   },
   "cell_type": "code",
   "source": "help(round)",
   "id": "17fd393bd1a3ebd5",
   "outputs": [
    {
     "name": "stdout",
     "output_type": "stream",
     "text": [
      "Help on built-in function round in module builtins:\n",
      "\n",
      "round(number, ndigits=None)\n",
      "    Round a number to a given precision in decimal digits.\n",
      "\n",
      "    The return value is an integer if ndigits is omitted or None.  Otherwise\n",
      "    the return value has the same type as the number.  ndigits may be negative.\n",
      "\n"
     ]
    }
   ],
   "execution_count": 6
  },
  {
   "metadata": {
    "ExecuteTime": {
     "end_time": "2025-10-16T01:50:40.259222Z",
     "start_time": "2025-10-16T01:50:40.250095Z"
    }
   },
   "cell_type": "code",
   "source": [
    "promedio = round(sum(notas.values()) / len(notas), 1)\n",
    "print(f'El promedio del estudiante es: {promedio}')"
   ],
   "id": "636e9908dbceb83c",
   "outputs": [
    {
     "name": "stdout",
     "output_type": "stream",
     "text": [
      "El promedio del estudiante es: 8.2\n"
     ]
    }
   ],
   "execution_count": 7
  }
 ],
 "metadata": {
  "kernelspec": {
   "display_name": "Python 3",
   "language": "python",
   "name": "python3"
  },
  "language_info": {
   "codemirror_mode": {
    "name": "ipython",
    "version": 2
   },
   "file_extension": ".py",
   "mimetype": "text/x-python",
   "name": "python",
   "nbconvert_exporter": "python",
   "pygments_lexer": "ipython2",
   "version": "2.7.6"
  }
 },
 "nbformat": 4,
 "nbformat_minor": 5
}
