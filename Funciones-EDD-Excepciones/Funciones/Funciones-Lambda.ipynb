{
 "cells": [
  {
   "metadata": {},
   "cell_type": "markdown",
   "source": [
    "# ¿Qué son las funciones Lambda?\n",
    "- Son funciones anónimas (No necesitamos definirlas).\n",
    "- Pueden ser descritas en una única línea.\n",
    "\n",
    "El formato estandar de una Lambda es:\n",
    "```python\n",
    "lambda <parametros>: <expresion>\n",
    "```"
   ],
   "id": "d98ec0cf46bdf355"
  },
  {
   "metadata": {
    "ExecuteTime": {
     "end_time": "2025-10-21T01:43:15.144569Z",
     "start_time": "2025-10-21T01:43:15.137051Z"
    }
   },
   "cell_type": "code",
   "source": [
    "fun = lambda x: (x & 1) == 0 # A nivel binario.\n",
    "\n",
    "print('El numero es par' if fun(2) else 'El numero es impar')"
   ],
   "id": "590c2bc31dde04ac",
   "outputs": [
    {
     "name": "stdout",
     "output_type": "stream",
     "text": [
      "El numero es par\n"
     ]
    }
   ],
   "execution_count": 35
  },
  {
   "metadata": {},
   "cell_type": "markdown",
   "source": [
    "## Mapeo de valores\n",
    "\n",
    "Formato estándar:\n",
    "```python\n",
    "map(<funcion>, <iterable>)\n",
    "```\n",
    "Se utiliza para usar funciones en iterables (listas, tuplas, etc)."
   ],
   "id": "f7defb628cdaead5"
  },
  {
   "metadata": {
    "ExecuteTime": {
     "end_time": "2025-10-21T01:42:13.033787Z",
     "start_time": "2025-10-21T01:42:13.026482Z"
    }
   },
   "cell_type": "code",
   "source": [
    "# Notas del estudiante\n",
    "notas = [9.5, 8, 7, 6.5, 10]\n",
    "cualitativo = 0.5"
   ],
   "id": "10a490b9c15b9329",
   "outputs": [],
   "execution_count": 32
  },
  {
   "metadata": {
    "ExecuteTime": {
     "end_time": "2025-10-21T01:42:15.681508Z",
     "start_time": "2025-10-21T01:42:15.674975Z"
    }
   },
   "cell_type": "code",
   "source": "notas_actualizadas = map(lambda x: x+cualitativo,notas)",
   "id": "30e5f0db5d8fcf1f",
   "outputs": [],
   "execution_count": 33
  },
  {
   "metadata": {},
   "cell_type": "markdown",
   "source": "> Despues para acceder a los datos del map tenemos que convertirlo a una lista o tupla.",
   "id": "5fdfafff96fb160d"
  },
  {
   "metadata": {
    "ExecuteTime": {
     "end_time": "2025-10-21T01:42:17.536156Z",
     "start_time": "2025-10-21T01:42:17.528636Z"
    }
   },
   "cell_type": "code",
   "source": "print(list(notas_actualizadas))",
   "id": "50d3735a18c5bba0",
   "outputs": [
    {
     "name": "stdout",
     "output_type": "stream",
     "text": [
      "[10.0, 8.5, 7.5, 7.0, 10.5]\n"
     ]
    }
   ],
   "execution_count": 34
  }
 ],
 "metadata": {
  "kernelspec": {
   "display_name": "Python 3",
   "language": "python",
   "name": "python3"
  },
  "language_info": {
   "codemirror_mode": {
    "name": "ipython",
    "version": 2
   },
   "file_extension": ".py",
   "mimetype": "text/x-python",
   "name": "python",
   "nbconvert_exporter": "python",
   "pygments_lexer": "ipython2",
   "version": "2.7.6"
  }
 },
 "nbformat": 4,
 "nbformat_minor": 5
}
