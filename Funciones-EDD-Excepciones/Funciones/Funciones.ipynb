{
 "cells": [
  {
   "metadata": {},
   "cell_type": "markdown",
   "source": "### ¿Qué son las funciones en Python?",
   "id": "65a5863aa78ec7ab"
  },
  {
   "metadata": {},
   "cell_type": "markdown",
   "source": [
    "- Secuencias de instrucciones que pueden ser empleadas en diversas partes del código.\n",
    "- Pueden o no recibir parámetros en entrada (inputs) y retornar valores."
   ],
   "id": "aaa4cf8e029fa7ad"
  },
  {
   "metadata": {},
   "cell_type": "markdown",
   "source": "### ¿Qué son las funciones built-in?",
   "id": "8b96c988db12a43a"
  },
  {
   "metadata": {},
   "cell_type": "markdown",
   "source": [
    "- Son funciones predefinidas en Python.\n",
    "- No es necesario importarlas para invocarlas en cualquier momento.\n",
    "- Algunos ejemplos de funciones incorporadas son: type(), print(), sum(), map(), etc."
   ],
   "id": "709e9c4a1f7a60f"
  },
  {
   "metadata": {},
   "cell_type": "markdown",
   "source": [
    "### Situación 1:\n",
    "La institución educativa para la cual nos encontramos trabajando compartió los datos de las notas de un estudiante para que pudiésemos calcular su promedio con una casilla decimal.\n",
    "\n",
    "Los datos recibidos corresponden a un diccionario cuyas llaves indican el trimestre en cuestión y sus valores corresponden a las notas de cada trimestre del estudiante en una respectiva materia."
   ],
   "id": "2f6acafeb02e5bfb"
  },
  {
   "metadata": {
    "ExecuteTime": {
     "end_time": "2025-10-16T05:29:00.858928Z",
     "start_time": "2025-10-16T05:29:00.841618Z"
    }
   },
   "cell_type": "code",
   "source": "notas = {'1° Trimestre':9.5, '2° Trimestre':8, '3° Trimestre':7}",
   "id": "100eb78efb36d934",
   "outputs": [],
   "execution_count": 1
  },
  {
   "metadata": {
    "ExecuteTime": {
     "end_time": "2025-10-16T01:48:31.473854Z",
     "start_time": "2025-10-16T01:48:31.466306Z"
    }
   },
   "cell_type": "code",
   "source": [
    "suma = 0\n",
    "for index,value in notas.items():\n",
    "    suma += value\n",
    "promedio = suma / len(notas)\n",
    "print(f'El promedio del estudiante es: {promedio:.1f}')"
   ],
   "id": "5e1a01eafcda1ad0",
   "outputs": [
    {
     "name": "stdout",
     "output_type": "stream",
     "text": [
      "El promedio del estudiante es: 8.2\n"
     ]
    }
   ],
   "execution_count": 3
  },
  {
   "metadata": {
    "ExecuteTime": {
     "end_time": "2025-10-21T02:07:50.405084Z",
     "start_time": "2025-10-21T02:07:49.940667Z"
    }
   },
   "cell_type": "code",
   "source": [
    "promedio = sum(notas.values()) / len(notas)\n",
    "print(f'El promedio del estudiante es: {promedio:.1f}')"
   ],
   "id": "3078d20006a0916",
   "outputs": [
    {
     "ename": "NameError",
     "evalue": "name 'notas' is not defined",
     "output_type": "error",
     "traceback": [
      "\u001B[31m---------------------------------------------------------------------------\u001B[39m",
      "\u001B[31mNameError\u001B[39m                                 Traceback (most recent call last)",
      "\u001B[36mCell\u001B[39m\u001B[36m \u001B[39m\u001B[32mIn[4]\u001B[39m\u001B[32m, line 1\u001B[39m\n\u001B[32m----> \u001B[39m\u001B[32m1\u001B[39m promedio = \u001B[38;5;28msum\u001B[39m(\u001B[43mnotas\u001B[49m.values()) / \u001B[38;5;28mlen\u001B[39m(notas)\n\u001B[32m      2\u001B[39m \u001B[38;5;28mprint\u001B[39m(\u001B[33mf\u001B[39m\u001B[33m'\u001B[39m\u001B[33mEl promedio del estudiante es: \u001B[39m\u001B[38;5;132;01m{\u001B[39;00mpromedio\u001B[38;5;132;01m:\u001B[39;00m\u001B[33m.1f\u001B[39m\u001B[38;5;132;01m}\u001B[39;00m\u001B[33m'\u001B[39m)\n",
      "\u001B[31mNameError\u001B[39m: name 'notas' is not defined"
     ]
    }
   ],
   "execution_count": 4
  },
  {
   "metadata": {
    "ExecuteTime": {
     "end_time": "2025-10-16T01:50:31.395717Z",
     "start_time": "2025-10-16T01:50:31.386718Z"
    }
   },
   "cell_type": "code",
   "source": "help(round)",
   "id": "17fd393bd1a3ebd5",
   "outputs": [
    {
     "name": "stdout",
     "output_type": "stream",
     "text": [
      "Help on built-in function round in module builtins:\n",
      "\n",
      "round(number, ndigits=None)\n",
      "    Round a number to a given precision in decimal digits.\n",
      "\n",
      "    The return value is an integer if ndigits is omitted or None.  Otherwise\n",
      "    the return value has the same type as the number.  ndigits may be negative.\n",
      "\n"
     ]
    }
   ],
   "execution_count": 6
  },
  {
   "metadata": {
    "ExecuteTime": {
     "end_time": "2025-10-16T01:50:40.259222Z",
     "start_time": "2025-10-16T01:50:40.250095Z"
    }
   },
   "cell_type": "code",
   "source": [
    "promedio = round(sum(notas.values()) / len(notas), 1)\n",
    "print(f'El promedio del estudiante es: {promedio}')"
   ],
   "id": "636e9908dbceb83c",
   "outputs": [
    {
     "name": "stdout",
     "output_type": "stream",
     "text": [
      "El promedio del estudiante es: 8.2\n"
     ]
    }
   ],
   "execution_count": 7
  },
  {
   "metadata": {},
   "cell_type": "markdown",
   "source": [
    "# Type Hint\n",
    "Es una sintaxis utilizada en Python para indicar el tipo de dato esperado de un parámetro o el retorno de una función, auidando en la legibilidad y mantenimiento del código.\n",
    "\n",
    "```pythom\n",
    "def <nombre>(<param>: <tipo_param>) -> <tipo_retorno>:\n",
    "  <instrucciones>\n",
    "  return resultado\n",
    "```"
   ],
   "id": "db6306f2eb08b48e"
  },
  {
   "metadata": {
    "ExecuteTime": {
     "end_time": "2025-10-21T02:05:53.300386Z",
     "start_time": "2025-10-21T02:05:53.279426Z"
    }
   },
   "cell_type": "code",
   "source": [
    "# Nuestra función recibe una lista y  retorna un float\n",
    "def media(lista: list) -> float:\n",
    "    calculo = sum(lista) / len(lista)\n",
    "    return calculo\n",
    "\n",
    "notas_lista = [9.5, 8, 7]\n",
    "promedio = media(notas_lista)\n",
    "print(f'El promedio del estudiante es: {promedio:.1f}')"
   ],
   "id": "6729d04e41245d74",
   "outputs": [
    {
     "name": "stdout",
     "output_type": "stream",
     "text": [
      "El promedio del estudiante es: 8.2\n"
     ]
    }
   ],
   "execution_count": 1
  },
  {
   "metadata": {},
   "cell_type": "markdown",
   "source": [
    "# Default Value\n",
    "Es un valor predeterminado asignado a un argumento de función que se utiliza si el usuario no proporciona ningún valor.\n",
    "```python\n",
    "<nombre_variable>: <tipo_variable> = <valor_variable>\n",
    "```"
   ],
   "id": "5de7199e63b547d0"
  },
  {
   "metadata": {
    "ExecuteTime": {
     "end_time": "2025-10-21T02:07:54.315901Z",
     "start_time": "2025-10-21T02:07:54.307539Z"
    }
   },
   "cell_type": "code",
   "source": [
    "# nuestra función recibe una lista del tipo list y retorna una variable del tipo float\n",
    "# si no recibe ningún valor de parámetro, se pasará una lista con un único\n",
    "# elemento, siendo este cero\n",
    "def media(lista: list=[0]) -> float:\n",
    "  calculo = sum(lista) / len(lista)\n",
    "  return calculo\n",
    "\n",
    "print(media())"
   ],
   "id": "eae8c1408e553143",
   "outputs": [
    {
     "name": "stdout",
     "output_type": "stream",
     "text": [
      "0.0\n"
     ]
    }
   ],
   "execution_count": 5
  },
  {
   "metadata": {},
   "cell_type": "markdown",
   "source": [
    "# Docstring\n",
    "Es una cadena utilizada para documentar módulos, funciones, clases o métodos en Python. Se coloca como el primer elemento de la definición y se puede acceder utilizando la función `help()`."
   ],
   "id": "d274111103524033"
  },
  {
   "metadata": {
    "ExecuteTime": {
     "end_time": "2025-10-21T02:09:54.034685Z",
     "start_time": "2025-10-21T02:09:54.028255Z"
    }
   },
   "cell_type": "code",
   "source": [
    "def media(lista: list=[0]) -> float:\n",
    "  '''Función para calcular la media de notas pasadas por una lista\n",
    "\n",
    "  lista: list, default [0]\n",
    "    Lista con las notas para calcular la media\n",
    "  return = calculo: float\n",
    "    Media calculada\n",
    "  '''\n",
    "  calculo = sum(lista) / len(lista)\n",
    "  return calculo"
   ],
   "id": "73034ba08c3f6dce",
   "outputs": [],
   "execution_count": 6
  },
  {
   "metadata": {
    "ExecuteTime": {
     "end_time": "2025-10-21T02:10:42.023831Z",
     "start_time": "2025-10-21T02:10:42.016721Z"
    }
   },
   "cell_type": "code",
   "source": "help(media)",
   "id": "8fe454ff0586c498",
   "outputs": [
    {
     "name": "stdout",
     "output_type": "stream",
     "text": [
      "Help on function media in module __main__:\n",
      "\n",
      "media(lista: list = [0]) -> float\n",
      "    Función para calcular la media de notas pasadas por una lista\n",
      "\n",
      "    lista: list, default [0]\n",
      "      Lista con las notas para calcular la media\n",
      "    return = calculo: float\n",
      "      Media calculada\n",
      "\n"
     ]
    }
   ],
   "execution_count": 9
  }
 ],
 "metadata": {
  "kernelspec": {
   "display_name": "Python 3",
   "language": "python",
   "name": "python3"
  },
  "language_info": {
   "codemirror_mode": {
    "name": "ipython",
    "version": 2
   },
   "file_extension": ".py",
   "mimetype": "text/x-python",
   "name": "python",
   "nbconvert_exporter": "python",
   "pygments_lexer": "ipython2",
   "version": "2.7.6"
  }
 },
 "nbformat": 4,
 "nbformat_minor": 5
}
