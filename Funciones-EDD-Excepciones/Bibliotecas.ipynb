{
 "cells": [
  {
   "metadata": {},
   "cell_type": "markdown",
   "source": [
    "Para instalar o actualizar una biblioteca en Python, podemos acudir a `pip` que es un gestor de bibliotecas para Python.\n",
    "\n",
    "Existe también PYPI que es un repositorio de bibliotecas Python que contiene las bibliotecas más utilizadas por la comunidad junto a su respectiva documentación."
   ],
   "id": "d14d1178c2eaa96a"
  },
  {
   "metadata": {},
   "cell_type": "code",
   "outputs": [],
   "execution_count": null,
   "source": [
    "# En google colab ya viene instalado pip, pero en caso de que no lo tengas instalado puedes hacerlo con el siguiente comando:\n",
    "!pip install --upgrade pip"
   ],
   "id": "b319b971bdba20dc"
  },
  {
   "metadata": {},
   "cell_type": "code",
   "outputs": [],
   "execution_count": null,
   "source": [
    "# De igual manera instalaremos matplotlib, que es una biblioteca para la creación de gráficos en 2D y 3D en Python.\n",
    "!pip install matplotlib==3.8.1"
   ],
   "id": "c0dee15f6f040f24"
  },
  {
   "metadata": {
    "ExecuteTime": {
     "end_time": "2025-10-16T01:06:23.739456Z",
     "start_time": "2025-10-16T01:06:23.733351Z"
    }
   },
   "cell_type": "code",
   "source": "from matplotlib import pyplot as plt",
   "id": "fca8fa6fc0090b89",
   "outputs": [],
   "execution_count": 6
  },
  {
   "metadata": {
    "ExecuteTime": {
     "end_time": "2025-10-16T01:06:21.434054Z",
     "start_time": "2025-10-16T01:06:21.426479Z"
    }
   },
   "cell_type": "code",
   "source": [
    "estudiantes = ['Juan', 'Ana', 'Pedro', 'Luis', 'Marta']\n",
    "notas = [85, 90, 78, 92, 88]"
   ],
   "id": "a09a1b8f20722c1f",
   "outputs": [],
   "execution_count": 5
  },
  {
   "metadata": {
    "ExecuteTime": {
     "end_time": "2025-10-16T01:06:35.936201Z",
     "start_time": "2025-10-16T01:06:35.854617Z"
    }
   },
   "cell_type": "code",
   "source": [
    "plt.bar(x= estudiantes,height=notas)\n",
    "plt.show()"
   ],
   "id": "f415f697be38b0a1",
   "outputs": [
    {
     "data": {
      "text/plain": [
       "<Figure size 640x480 with 1 Axes>"
      ],
      "image/png": "[encoded data removed]"
     },
     "metadata": {},
     "output_type": "display_data"
    }
   ],
   "execution_count": 8
  },
  {
   "metadata": {
    "ExecuteTime": {
     "end_time": "2025-10-16T01:08:26.948921Z",
     "start_time": "2025-10-16T01:08:26.938934Z"
    }
   },
   "cell_type": "code",
   "source": "estudiantes_2 = ['Juan', 'Ana', 'Pedro', 'Luis', 'Marta','Sofia']",
   "id": "a47a391b133f0a30",
   "outputs": [],
   "execution_count": 15
  },
  {
   "metadata": {
    "ExecuteTime": {
     "end_time": "2025-10-16T01:08:35.921188Z",
     "start_time": "2025-10-16T01:08:35.916041Z"
    }
   },
   "cell_type": "code",
   "source": "from random import choice",
   "id": "d8d1e0c05949543a",
   "outputs": [],
   "execution_count": 18
  },
  {
   "metadata": {
    "ExecuteTime": {
     "end_time": "2025-10-16T01:09:01.873039Z",
     "start_time": "2025-10-16T01:09:01.863130Z"
    }
   },
   "cell_type": "code",
   "source": [
    "estudiante = choice(estudiantes_2)\n",
    "estudiante"
   ],
   "id": "375d43e5f5a8dd78",
   "outputs": [
    {
     "data": {
      "text/plain": [
       "'Marta'"
      ]
     },
     "execution_count": 66,
     "metadata": {},
     "output_type": "execute_result"
    }
   ],
   "execution_count": 66
  }
 ],
 "metadata": {
  "kernelspec": {
   "display_name": "Python 3",
   "language": "python",
   "name": "python3"
  },
  "language_info": {
   "codemirror_mode": {
    "name": "ipython",
    "version": 2
   },
   "file_extension": ".py",
   "mimetype": "text/x-python",
   "name": "python",
   "nbconvert_exporter": "python",
   "pygments_lexer": "ipython2",
   "version": "2.7.6"
  }
 },
 "nbformat": 4,
 "nbformat_minor": 5
}
