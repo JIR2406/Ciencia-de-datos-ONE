{
 "cells": [
  {
   "metadata": {},
   "cell_type": "markdown",
   "source": [
    "# Dict Comprehension\n",
    "Es una forma simple y concisa de crear o modificar un diccionario. Podemos aplicar condicionales y lazos para crear diversos tipos de diccionarios a partir de los patrones que buscamos para nuestra estructura de datos y con el soporte de iterables como listas o sets."
   ],
   "id": "e0611096eea57fd0"
  },
  {
   "metadata": {},
   "cell_type": "markdown",
   "source": [
    "> Sintaxis\n",
    "> `{`clave`:` valor `for` item `in` lista`}`"
   ],
   "id": "a433f3ac2748bf6"
  },
  {
   "metadata": {},
   "cell_type": "markdown",
   "source": [
    "### Situación 11:\n",
    "Ahora, nuestra demanda consiste en generar un diccionario a partir de la lista de listas que creamos en la Situación 10 para entregar a la persona responsable por construir las tablas para el análisis de los datos\n",
    "- Las llaves de nuestro diccionario serán las columnas identificando el tipo de dato\n",
    "- Los valores serán las listas con los datos correspondientes a aquella llave"
   ],
   "id": "58ef50e8a9e24675"
  }
 ],
 "metadata": {
  "kernelspec": {
   "display_name": "Python 3",
   "language": "python",
   "name": "python3"
  },
  "language_info": {
   "codemirror_mode": {
    "name": "ipython",
    "version": 2
   },
   "file_extension": ".py",
   "mimetype": "text/x-python",
   "name": "python",
   "nbconvert_exporter": "python",
   "pygments_lexer": "ipython2",
   "version": "2.7.6"
  }
 },
 "nbformat": 4,
 "nbformat_minor": 5
}
