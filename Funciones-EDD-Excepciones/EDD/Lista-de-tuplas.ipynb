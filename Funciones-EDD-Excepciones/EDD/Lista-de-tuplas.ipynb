{
 "cells": [
  {
   "metadata": {},
   "cell_type": "markdown",
   "source": [
    "### **Lista de tuplas**\n",
    "\n",
    "#### Formato estándar:\n",
    "\n",
    "```python\n",
    "[(a1, a2,...,an), (b1, b2,...,bn), ..., (n1, n2,...,nn)]\n",
    "```"
   ],
   "id": "2fe171a0a05d656c"
  },
  {
   "metadata": {},
   "cell_type": "markdown",
   "source": [
    "#### **Situación 7:**\n",
    "\n",
    "Necesitamos generar una lista de tuplas con los nombres de los estudiantes y el código ID de cada uno de ellos para la plataforma de análisis de datos. La creación del código consiste en concatenar la primera letra del nombre del estudiante con un número aleatorio de 0 a 999. Los datos recibidos corresponden a una lista con los nombres de cada estudiante.\n",
    "\n",
    "**¿Vamos a resolver este desafío?**\n",
    "\n",
    "Para facilitar nuestra comprensión del proceso, vamos a trabajar con un grupo de 5 estudiantes; sin embargo, puedes probar otros casos para practicar.\n"
   ],
   "id": "d446ad3450cece95"
  },
  {
   "metadata": {
    "ExecuteTime": {
     "end_time": "2025-10-21T17:10:08.115897Z",
     "start_time": "2025-10-21T17:10:08.108879Z"
    }
   },
   "cell_type": "code",
   "source": "nombres = ['Juan', 'María', 'Pedro', 'Luisa', 'Ana']",
   "id": "9e23a42152625542",
   "outputs": [],
   "execution_count": 1
  },
  {
   "metadata": {
    "ExecuteTime": {
     "end_time": "2025-10-21T17:20:34.306929Z",
     "start_time": "2025-10-21T17:20:34.299863Z"
    }
   },
   "cell_type": "code",
   "source": [
    "import random\n",
    "cod = ''\n",
    "listaTuplas = []\n",
    "for x in nombres:\n",
    "    cod = f'{x[0]}{random.randint(1,99)}'\n",
    "    listaTuplas.append((x,cod))\n",
    "print(listaTuplas)"
   ],
   "id": "d6ae2a9a7e59907b",
   "outputs": [
    {
     "name": "stdout",
     "output_type": "stream",
     "text": [
      "[('Juan', 'J53'), ('María', 'M98'), ('Pedro', 'P22'), ('Luisa', 'L10'), ('Ana', 'A47')]\n"
     ]
    }
   ],
   "execution_count": 155
  }
 ],
 "metadata": {
  "kernelspec": {
   "display_name": "Python 3",
   "language": "python",
   "name": "python3"
  },
  "language_info": {
   "codemirror_mode": {
    "name": "ipython",
    "version": 2
   },
   "file_extension": ".py",
   "mimetype": "text/x-python",
   "name": "python",
   "nbconvert_exporter": "python",
   "pygments_lexer": "ipython2",
   "version": "2.7.6"
  }
 },
 "nbformat": 4,
 "nbformat_minor": 5
}
