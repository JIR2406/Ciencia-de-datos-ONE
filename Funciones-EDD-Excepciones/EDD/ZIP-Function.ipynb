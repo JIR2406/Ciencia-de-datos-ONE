{
 "cells": [
  {
   "metadata": {},
   "cell_type": "markdown",
   "source": [
    "# Función ZIP\n",
    "La función `zip` es una función incorporada de Python que toma uno o más iterables (lista, cadena, diccionario, etc.) y los devuelve como un iterador de tuplas donde cada elemento de los iterables está emparejado.\n",
    "Es útil para realizar iteraciones simultáneas en varias listas.\n",
    "\n",
    "La función `zip()` se puede utilizar junto con otras funciones de Python, como `map()` y `filter()`, para crear soluciones elegantes y concisas para ciertos problemas. Realicemos una prueba simple para verificar este comportamiento:"
   ],
   "id": "78ff76996c4c732b"
  },
  {
   "metadata": {
    "ExecuteTime": {
     "end_time": "2025-10-21T23:37:23.119919Z",
     "start_time": "2025-10-21T23:37:23.074737Z"
    }
   },
   "cell_type": "code",
   "source": [
    "objeto_zip = zip([1, 2, 3])\n",
    "objeto_zip"
   ],
   "id": "423c47ecbed68ca",
   "outputs": [
    {
     "data": {
      "text/plain": [
       "<zip at 0x142a75ae640>"
      ]
     },
     "execution_count": 1,
     "metadata": {},
     "output_type": "execute_result"
    }
   ],
   "execution_count": 1
  },
  {
   "metadata": {},
   "cell_type": "markdown",
   "source": "Notamos que zip() creó un objeto zip en la memoria, que sería nuestro iterable. Coloquemos el resultado en una lista para verificar la salida",
   "id": "4d656d3c4774bf18"
  },
  {
   "metadata": {
    "ExecuteTime": {
     "end_time": "2025-10-21T23:37:34.849829Z",
     "start_time": "2025-10-21T23:37:34.838254Z"
    }
   },
   "cell_type": "code",
   "source": "list(objeto_zip)",
   "id": "b850678db118f2cb",
   "outputs": [
    {
     "data": {
      "text/plain": [
       "[(1,), (2,), (3,)]"
      ]
     },
     "execution_count": 2,
     "metadata": {},
     "output_type": "execute_result"
    }
   ],
   "execution_count": 2
  },
  {
   "metadata": {},
   "cell_type": "markdown",
   "source": [
    "Se generó una lista de tuplas, donde cada tupla tiene, como uno de los pares, los elementos provenientes de la lista [1, 2, 3] y la otra parte de los pares está vacía. Como solo usamos un iterable, cada tupla está vacía en el segundo elemento, ya que zip() actúa para crear pares de iterables.\n",
    "Pero lo más interesante es trabajar con dos o más iterables en los que podemos emparejarlos. Por ejemplo, si queremos crear una lista de tuplas con la asignación de las regiones de Brasil con sus respectivos identificadores:"
   ],
   "id": "e042a9c4e10180ac"
  },
  {
   "metadata": {
    "ExecuteTime": {
     "end_time": "2025-10-21T23:37:58.150946Z",
     "start_time": "2025-10-21T23:37:58.137997Z"
    }
   },
   "cell_type": "code",
   "source": [
    "id = [1, 2, 3, 4, 5]\n",
    "region = [\"Norte\", \"Oriente\", \"Sudeste\", \"Centro\", \"Sur\"]\n",
    "\n",
    "mapa = list(zip(id, region))\n",
    "mapa"
   ],
   "id": "c887845d90c4f764",
   "outputs": [
    {
     "data": {
      "text/plain": [
       "[(1, 'Norte'), (2, 'Oriente'), (3, 'Sudeste'), (4, 'Centro'), (5, 'Sur')]"
      ]
     },
     "execution_count": 3,
     "metadata": {},
     "output_type": "execute_result"
    }
   ],
   "execution_count": 3
  },
  {
   "metadata": {},
   "cell_type": "markdown",
   "source": [
    "Esta función puede ayudar a emparejar dos listas diferentes en un único objeto zip, que se puede transformar en una lista de tuplas (formato ideal para generar un índice de más de un nivel que se explorará en algunos de los cursos de la formación) o en un diccionario pasando el objeto zip a la función dict().\n",
    "\n",
    "> Si las listas de entrada tienen longitudes diferentes, la salida contendrá el mismo número de tuplas que la lista de menor longitud y los elementos restantes de los otros iterables se ignorarán. Por ejemplo:"
   ],
   "id": "4bd614a372649175"
  },
  {
   "metadata": {
    "ExecuteTime": {
     "end_time": "2025-10-21T23:38:29.237344Z",
     "start_time": "2025-10-21T23:38:29.227780Z"
    }
   },
   "cell_type": "code",
   "source": [
    "codigos = [\"1000\", \"1001\", \"1002\", \"1003\", \"1004\", \"1005\"]\n",
    "frutas = [\"manzana\", \"uva\", \"banana\", \"naranja\"]\n",
    "\n",
    "mercancia = list(zip(codigos, frutas))\n",
    "mercancia"
   ],
   "id": "168ed936a8f5d1e2",
   "outputs": [
    {
     "data": {
      "text/plain": [
       "[('1000', 'manzana'), ('1001', 'uva'), ('1002', 'banana'), ('1003', 'naranja')]"
      ]
     },
     "execution_count": 4,
     "metadata": {},
     "output_type": "execute_result"
    }
   ],
   "execution_count": 4
  },
  {
   "metadata": {},
   "cell_type": "markdown",
   "source": "Para realizar el proceso contrario, de transformar una tupla iterable en listas, basta con colocar el operador asterisco (*) al lado izquierdo del nombre de la tupla iterable que se desea extraer los datos, transmitiendo cada tupla a una variable.",
   "id": "15703d7317f679f5"
  },
  {
   "metadata": {
    "ExecuteTime": {
     "end_time": "2025-10-21T23:38:41.447409Z",
     "start_time": "2025-10-21T23:38:41.437728Z"
    }
   },
   "cell_type": "code",
   "source": [
    "tupla_iterable = [('J392', 'Juan'), ('M890', 'Maria'), ('J681', 'José'), ('C325', 'Claudia'), ('A49', 'Ana')]\n",
    "ids, nombres = zip(*tupla_iterable)\n",
    "\n",
    "ids = list(ids)\n",
    "nombres = list(nombres)\n",
    "\n",
    "print(\"IDs = \", ids)\n",
    "print(\"Nombres = \", nombres)"
   ],
   "id": "69b1d33499015ae3",
   "outputs": [
    {
     "name": "stdout",
     "output_type": "stream",
     "text": [
      "IDs =  ['J392', 'M890', 'J681', 'C325', 'A49']\n",
      "Nombres =  ['Juan', 'Maria', 'José', 'Claudia', 'Ana']\n"
     ]
    }
   ],
   "execution_count": 5
  },
  {
   "metadata": {},
   "cell_type": "markdown",
   "source": "La idea de realizar un \"desempaquetado inverso\" es útil cuando queremos extraer claves o valores por separado o generar una lista de tuplas separadas, con el conjunto de claves y valores, cada uno representado en una tupla.",
   "id": "725dbe64047a28f4"
  }
 ],
 "metadata": {
  "kernelspec": {
   "display_name": "Python 3",
   "language": "python",
   "name": "python3"
  },
  "language_info": {
   "codemirror_mode": {
    "name": "ipython",
    "version": 2
   },
   "file_extension": ".py",
   "mimetype": "text/x-python",
   "name": "python",
   "nbconvert_exporter": "python",
   "pygments_lexer": "ipython2",
   "version": "2.7.6"
  }
 },
 "nbformat": 4,
 "nbformat_minor": 5
}
