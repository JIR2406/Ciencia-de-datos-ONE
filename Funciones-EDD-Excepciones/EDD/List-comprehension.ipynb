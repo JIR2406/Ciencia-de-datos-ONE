{
 "cells": [
  {
   "metadata": {},
   "cell_type": "markdown",
   "source": [
    "# 3.2 List Comprehension\n",
    "Es una forma simple y concisa de crear una lista. Podemos aplicar condicionales y lazos para crear diversos tipos de listas a partir de patrones que deseamos para nuestra estructura de datos.\n",
    "\n",
    "> Formato general:\n",
    "> ```python\n",
    "> [expresión for item in lista]\n",
    "> ```"
   ],
   "id": "dd458e7b2e8b976b"
  },
  {
   "metadata": {},
   "cell_type": "markdown",
   "source": [
    "## Situación 8:\n",
    "Recibimos demanda de crear una lista con el promedio de los estudiantes de la lista de listas que creamos en la situación 6, redondeando el promedio a una casilla decimal. Recordando que cada lista de la lista de listas contiene las tres notas de cada estudiante."
   ],
   "id": "707162abaeaf8c0d"
  },
  {
   "metadata": {
    "ExecuteTime": {
     "end_time": "2025-10-21T21:01:54.685597Z",
     "start_time": "2025-10-21T21:01:54.678596Z"
    }
   },
   "cell_type": "code",
   "source": "notas = [[8.0, 9.0, 10.0], [ 9.0, 7.0, 6.0], [3.4, 7.0, 7.0],  [5.5, 6.6, 8.0], [ 6.0, 10.0, 9.5]]",
   "id": "515f2e7641059bd1",
   "outputs": [],
   "execution_count": 61
  },
  {
   "metadata": {
    "ExecuteTime": {
     "end_time": "2025-10-21T21:01:54.710983Z",
     "start_time": "2025-10-21T21:01:54.703618Z"
    }
   },
   "cell_type": "code",
   "source": [
    "promedios = [round(sum(notas_estudiante) / len(notas_estudiante), 1) for notas_estudiante in notas]\n",
    "print(promedios)"
   ],
   "id": "a4ba1ba5f36fa49e",
   "outputs": [
    {
     "name": "stdout",
     "output_type": "stream",
     "text": [
      "[9.0, 7.3, 5.8, 6.7, 8.5]\n"
     ]
    }
   ],
   "execution_count": 62
  },
  {
   "metadata": {},
   "cell_type": "markdown",
   "source": [
    "# Situación 9:\n",
    "Ahora, necesitamos utilizar los promedios calculados en el ejemplo anterior, y agruparlos con el nombre de los respectivos estudiantes. Esto será necesario para generar una lista que seleccione a aquellos estudiantes que posean un promedio final mayor o igual a 8 para concursar por una beca de estudios para el próximo año lectivo. Los datos recibidos corresponden a una lista de tuplas con los nombres y los códigos de los estudiantes junto a la lista de promedios calculados previamente.\n",
    "\n",
    "> El número de código será cada vez que se ejecute la celda que lo genera, por lo tanto, es completamente normal que estos códigos sean diferentes."
   ],
   "id": "1fa1b8371b652c8b"
  },
  {
   "metadata": {
    "ExecuteTime": {
     "end_time": "2025-10-21T21:01:54.743250Z",
     "start_time": "2025-10-21T21:01:54.736238Z"
    }
   },
   "cell_type": "code",
   "source": "nombres = ['Juan', 'María', 'Pedro', 'Luisa', 'Ana']",
   "id": "497d9cb79673a279",
   "outputs": [],
   "execution_count": 63
  },
  {
   "metadata": {
    "ExecuteTime": {
     "end_time": "2025-10-21T21:01:54.771827Z",
     "start_time": "2025-10-21T21:01:54.765819Z"
    }
   },
   "cell_type": "code",
   "source": [
    "import random\n",
    "aux = []\n",
    "for i in range(len(nombres)):\n",
    "    codigo_estudiante = f\"{nombres[i][0]}{random.randint(1,99)}\"\n",
    "    aux.append((nombres[i],codigo_estudiante))\n",
    "print(aux)"
   ],
   "id": "aa24208d990b1336",
   "outputs": [
    {
     "name": "stdout",
     "output_type": "stream",
     "text": [
      "[('Juan', 'J70'), ('María', 'M15'), ('Pedro', 'P19'), ('Luisa', 'L15'), ('Ana', 'A88')]\n"
     ]
    }
   ],
   "execution_count": 64
  },
  {
   "metadata": {
    "ExecuteTime": {
     "end_time": "2025-10-21T21:01:54.796728Z",
     "start_time": "2025-10-21T21:01:54.790754Z"
    }
   },
   "cell_type": "code",
   "source": "nombres = [('Juan', 'J70'), ('María', 'M43'), ('Pedro', 'P50'), ('Luisa', 'L97'), ('Ana', 'A19')]",
   "id": "c827a6ab09290ff0",
   "outputs": [],
   "execution_count": 65
  },
  {
   "metadata": {
    "ExecuteTime": {
     "end_time": "2025-10-21T21:01:54.833881Z",
     "start_time": "2025-10-21T21:01:54.820844Z"
    }
   },
   "cell_type": "code",
   "source": [
    "nombres = [nombre[0] for nombre in nombres]\n",
    "print(nombres)"
   ],
   "id": "c9ec02b7538ecd42",
   "outputs": [
    {
     "name": "stdout",
     "output_type": "stream",
     "text": [
      "['Juan', 'María', 'Pedro', 'Luisa', 'Ana']\n"
     ]
    }
   ],
   "execution_count": 66
  },
  {
   "metadata": {},
   "cell_type": "markdown",
   "source": [
    "# Función zip()\n",
    "Para lograr parear los promedios y los nombres fácilmente, podemos acudir a otra built-in function: zip()\n",
    "> Esta recibe uno o más iterables (listas, tuplas, dict, strings, etc.) y los retorna como un iterador de tuplas donde cada elemento de los iterables es pareado."
   ],
   "id": "ea9e9e6b792bb8cf"
  },
  {
   "metadata": {
    "ExecuteTime": {
     "end_time": "2025-10-21T21:43:45.714313Z",
     "start_time": "2025-10-21T21:43:45.674115Z"
    }
   },
   "cell_type": "code",
   "source": "zip(nombres, promedios)",
   "id": "d608df2bbd87f89b",
   "outputs": [
    {
     "data": {
      "text/plain": [
       "<zip at 0x25881ea0d80>"
      ]
     },
     "execution_count": 67,
     "metadata": {},
     "output_type": "execute_result"
    }
   ],
   "execution_count": 67
  },
  {
   "metadata": {
    "ExecuteTime": {
     "end_time": "2025-10-21T21:47:24.524286Z",
     "start_time": "2025-10-21T21:47:24.514744Z"
    }
   },
   "cell_type": "code",
   "source": [
    "estudiantes = list(zip(nombres, promedios))\n",
    "print(estudiantes)"
   ],
   "id": "63a9ea104d2a1995",
   "outputs": [
    {
     "name": "stdout",
     "output_type": "stream",
     "text": [
      "[('Juan', 9.0), ('María', 7.3), ('Pedro', 5.8), ('Luisa', 6.7), ('Ana', 8.5)]\n"
     ]
    }
   ],
   "execution_count": 70
  },
  {
   "metadata": {
    "ExecuteTime": {
     "end_time": "2025-10-21T21:50:07.287954Z",
     "start_time": "2025-10-21T21:50:07.280077Z"
    }
   },
   "cell_type": "code",
   "source": [
    "candidatos = [estudiante for estudiante in estudiantes if estudiante[1] >=8]\n",
    "print(candidatos)"
   ],
   "id": "6e5340a2e06ea4bf",
   "outputs": [
    {
     "name": "stdout",
     "output_type": "stream",
     "text": [
      "[('Juan', 9.0), ('Ana', 8.5)]\n"
     ]
    }
   ],
   "execution_count": 72
  }
 ],
 "metadata": {
  "kernelspec": {
   "display_name": "Python 3",
   "language": "python",
   "name": "python3"
  },
  "language_info": {
   "codemirror_mode": {
    "name": "ipython",
    "version": 2
   },
   "file_extension": ".py",
   "mimetype": "text/x-python",
   "name": "python",
   "nbconvert_exporter": "python",
   "pygments_lexer": "ipython2",
   "version": "2.7.6"
  }
 },
 "nbformat": 4,
 "nbformat_minor": 5
}
