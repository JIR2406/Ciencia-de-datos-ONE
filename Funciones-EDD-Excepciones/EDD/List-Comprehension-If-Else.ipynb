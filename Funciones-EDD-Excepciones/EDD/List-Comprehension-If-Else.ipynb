{
 "cells": [
  {
   "metadata": {},
   "cell_type": "markdown",
   "source": [
    "El formato general de una list comprehension con una condición if-else es el siguiente:\n",
    "```python\n",
    "[resultado_if if condicion else resultado_else for item in lista]\n",
    "```"
   ],
   "id": "d42a46a0b2c2b9be"
  },
  {
   "metadata": {
    "ExecuteTime": {
     "end_time": "2025-10-21T23:45:52.721467Z",
     "start_time": "2025-10-21T23:45:52.713560Z"
    }
   },
   "cell_type": "code",
   "source": "alumnos = [('Juan', 9.0), ('María', 7.3), ('Pedro', 5.8), ('Luisa', 6.7), ('Ana', 8.5)]",
   "id": "c4d8f7e882cb1d43",
   "outputs": [],
   "execution_count": 2
  },
  {
   "metadata": {
    "ExecuteTime": {
     "end_time": "2025-10-21T23:46:46.039507Z",
     "start_time": "2025-10-21T23:46:46.030901Z"
    }
   },
   "cell_type": "code",
   "source": [
    "situacion = ['Aprobado' if nota >=7 else 'Reprobado' for nombre, nota in alumnos]\n",
    "print(situacion)"
   ],
   "id": "386722220595d795",
   "outputs": [
    {
     "name": "stdout",
     "output_type": "stream",
     "text": [
      "['Aprobado', 'Aprobado', 'Reprobado', 'Reprobado', 'Aprobado']\n"
     ]
    }
   ],
   "execution_count": 4
  }
 ],
 "metadata": {
  "kernelspec": {
   "display_name": "Python 3",
   "language": "python",
   "name": "python3"
  },
  "language_info": {
   "codemirror_mode": {
    "name": "ipython",
    "version": 2
   },
   "file_extension": ".py",
   "mimetype": "text/x-python",
   "name": "python",
   "nbconvert_exporter": "python",
   "pygments_lexer": "ipython2",
   "version": "2.7.6"
  }
 },
 "nbformat": 4,
 "nbformat_minor": 5
}
