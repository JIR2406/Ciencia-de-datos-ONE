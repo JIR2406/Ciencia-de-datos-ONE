{
 "cells": [
  {
   "metadata": {},
   "cell_type": "markdown",
   "source": "# Importación de nuestros datos",
   "id": "656892b24b92ee4c"
  },
  {
   "metadata": {
    "ExecuteTime": {
     "end_time": "2025-10-22T16:46:27.647432Z",
     "start_time": "2025-10-22T16:46:27.636458Z"
    }
   },
   "cell_type": "code",
   "source": "import pandas as pd",
   "id": "ef25af53e3f9736",
   "outputs": [],
   "execution_count": 7
  },
  {
   "metadata": {},
   "cell_type": "markdown",
   "source": "Especifica mente el DataSet que vamos a utilizar su separador es `;` por lo tanto a la hora de abrirlo tendremos que especificarlo.",
   "id": "7207aa0aa5b0d3b"
  },
  {
   "metadata": {
    "ExecuteTime": {
     "end_time": "2025-10-22T16:46:39.596323Z",
     "start_time": "2025-10-22T16:46:27.683142Z"
    }
   },
   "cell_type": "code",
   "source": [
    "url = (\"https://gist.githubusercontent.com/ahcamachod/a572cfcc2527046db93101f88011b26e/raw/ffb13f45a79d31223e645611a119397dd127ee3c/alquiler.csv\")\n",
    "df = pd.read_csv(url,sep=';')"
   ],
   "id": "1a7bc410bd99dd09",
   "outputs": [],
   "execution_count": 8
  },
  {
   "metadata": {},
   "cell_type": "markdown",
   "source": "Confirmamos que se haya cargado correctamente mostrando las primeras 5 filas del DataFrame.",
   "id": "b8b17583788bd06"
  },
  {
   "metadata": {
    "ExecuteTime": {
     "end_time": "2025-10-22T16:47:41.868966Z",
     "start_time": "2025-10-22T16:47:41.819566Z"
    }
   },
   "cell_type": "code",
   "source": "df.head(5)",
   "id": "985347d5f31f9f6a",
   "outputs": [
    {
     "data": {
      "text/plain": [
       "                      Tipo           Colonia  Habitaciones  Garages  Suites  \\\n",
       "0                 Cocineta           Condesa             1        0       0   \n",
       "1                     Casa           Polanco             2        0       1   \n",
       "2  Conjunto Comercial/Sala          Santa Fe             0        4       0   \n",
       "3             Departamento  Centro Histórico             1        0       0   \n",
       "4             Departamento         Del Valle             1        0       0   \n",
       "\n",
       "   Area    Valor  Condominio  Impuesto  \n",
       "0    40   5950.0      1750.0     210.0  \n",
       "1   100  24500.0         NaN       NaN  \n",
       "2   150  18200.0     14070.0    3888.5  \n",
       "3    15   2800.0      1365.0      70.0  \n",
       "4    48   2800.0       805.0       NaN  "
      ],
      "text/html": [
       "<div>\n",
       "<style scoped>\n",
       "    .dataframe tbody tr th:only-of-type {\n",
       "        vertical-align: middle;\n",
       "    }\n",
       "\n",
       "    .dataframe tbody tr th {\n",
       "        vertical-align: top;\n",
       "    }\n",
       "\n",
       "    .dataframe thead th {\n",
       "        text-align: right;\n",
       "    }\n",
       "</style>\n",
       "<table border=\"1\" class=\"dataframe\">\n",
       "  <thead>\n",
       "    <tr style=\"text-align: right;\">\n",
       "      <th></th>\n",
       "      <th>Tipo</th>\n",
       "      <th>Colonia</th>\n",
       "      <th>Habitaciones</th>\n",
       "      <th>Garages</th>\n",
       "      <th>Suites</th>\n",
       "      <th>Area</th>\n",
       "      <th>Valor</th>\n",
       "      <th>Condominio</th>\n",
       "      <th>Impuesto</th>\n",
       "    </tr>\n",
       "  </thead>\n",
       "  <tbody>\n",
       "    <tr>\n",
       "      <th>0</th>\n",
       "      <td>Cocineta</td>\n",
       "      <td>Condesa</td>\n",
       "      <td>1</td>\n",
       "      <td>0</td>\n",
       "      <td>0</td>\n",
       "      <td>40</td>\n",
       "      <td>5950.0</td>\n",
       "      <td>1750.0</td>\n",
       "      <td>210.0</td>\n",
       "    </tr>\n",
       "    <tr>\n",
       "      <th>1</th>\n",
       "      <td>Casa</td>\n",
       "      <td>Polanco</td>\n",
       "      <td>2</td>\n",
       "      <td>0</td>\n",
       "      <td>1</td>\n",
       "      <td>100</td>\n",
       "      <td>24500.0</td>\n",
       "      <td>NaN</td>\n",
       "      <td>NaN</td>\n",
       "    </tr>\n",
       "    <tr>\n",
       "      <th>2</th>\n",
       "      <td>Conjunto Comercial/Sala</td>\n",
       "      <td>Santa Fe</td>\n",
       "      <td>0</td>\n",
       "      <td>4</td>\n",
       "      <td>0</td>\n",
       "      <td>150</td>\n",
       "      <td>18200.0</td>\n",
       "      <td>14070.0</td>\n",
       "      <td>3888.5</td>\n",
       "    </tr>\n",
       "    <tr>\n",
       "      <th>3</th>\n",
       "      <td>Departamento</td>\n",
       "      <td>Centro Histórico</td>\n",
       "      <td>1</td>\n",
       "      <td>0</td>\n",
       "      <td>0</td>\n",
       "      <td>15</td>\n",
       "      <td>2800.0</td>\n",
       "      <td>1365.0</td>\n",
       "      <td>70.0</td>\n",
       "    </tr>\n",
       "    <tr>\n",
       "      <th>4</th>\n",
       "      <td>Departamento</td>\n",
       "      <td>Del Valle</td>\n",
       "      <td>1</td>\n",
       "      <td>0</td>\n",
       "      <td>0</td>\n",
       "      <td>48</td>\n",
       "      <td>2800.0</td>\n",
       "      <td>805.0</td>\n",
       "      <td>NaN</td>\n",
       "    </tr>\n",
       "  </tbody>\n",
       "</table>\n",
       "</div>"
      ]
     },
     "execution_count": 11,
     "metadata": {},
     "output_type": "execute_result"
    }
   ],
   "execution_count": 11
  },
  {
   "metadata": {},
   "cell_type": "markdown",
   "source": "Ahora, una tarea que se nos asigno fue saber la cantidad de registros que tenemos en nuestra base de datos, para ello utilizaremos el atributo `shape` del DataFrame.",
   "id": "a8fc954640572b49"
  },
  {
   "metadata": {
    "ExecuteTime": {
     "end_time": "2025-10-22T16:46:39.642203Z",
     "start_time": "2025-10-22T16:46:39.628807Z"
    }
   },
   "cell_type": "code",
   "source": "print('La cantidad de filas y columnas es:',df.shape)",
   "id": "3fb31f972114a3da",
   "outputs": [
    {
     "name": "stdout",
     "output_type": "stream",
     "text": [
      "La cantidad de filas y columnas es: (25121, 9)\n"
     ]
    }
   ],
   "execution_count": 9
  },
  {
   "metadata": {},
   "cell_type": "markdown",
   "source": "Tambien necesitamos conocer los nombres de las columnas que tenemos en nuestro DataFrame.",
   "id": "70195b9b651499f3"
  },
  {
   "metadata": {
    "ExecuteTime": {
     "end_time": "2025-10-22T16:50:19.962048Z",
     "start_time": "2025-10-22T16:50:19.946554Z"
    }
   },
   "cell_type": "code",
   "source": "print('Las columnas son: ',df.columns.tolist())",
   "id": "d3e16a9bfbf41dc4",
   "outputs": [
    {
     "name": "stdout",
     "output_type": "stream",
     "text": [
      "Las columnas son:  ['Tipo', 'Colonia', 'Habitaciones', 'Garages', 'Suites', 'Area', 'Valor', 'Condominio', 'Impuesto']\n"
     ]
    }
   ],
   "execution_count": 12
  }
 ],
 "metadata": {
  "kernelspec": {
   "display_name": "Python 3",
   "language": "python",
   "name": "python3"
  },
  "language_info": {
   "codemirror_mode": {
    "name": "ipython",
    "version": 2
   },
   "file_extension": ".py",
   "mimetype": "text/x-python",
   "name": "python",
   "nbconvert_exporter": "python",
   "pygments_lexer": "ipython2",
   "version": "2.7.6"
  }
 },
 "nbformat": 4,
 "nbformat_minor": 5
}
