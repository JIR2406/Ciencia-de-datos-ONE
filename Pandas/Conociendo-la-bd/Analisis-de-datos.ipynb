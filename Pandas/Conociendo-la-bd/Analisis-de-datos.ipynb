{
 "cells": [
  {
   "metadata": {},
   "cell_type": "markdown",
   "source": "# Importación de nuestros datos",
   "id": "656892b24b92ee4c"
  },
  {
   "metadata": {
    "ExecuteTime": {
     "end_time": "2025-10-24T17:28:01.023685Z",
     "start_time": "2025-10-24T17:28:01.006292Z"
    }
   },
   "cell_type": "code",
   "source": "import pandas as pd",
   "id": "ef25af53e3f9736",
   "outputs": [],
   "execution_count": 8
  },
  {
   "metadata": {},
   "cell_type": "markdown",
   "source": "Especifica mente el DataSet que vamos a utilizar su separador es `;` por lo tanto a la hora de abrirlo tendremos que especificarlo.",
   "id": "7207aa0aa5b0d3b"
  },
  {
   "metadata": {
    "ExecuteTime": {
     "end_time": "2025-10-24T17:28:01.469889Z",
     "start_time": "2025-10-24T17:28:01.094280Z"
    }
   },
   "cell_type": "code",
   "source": [
    "url = (\"https://gist.githubusercontent.com/ahcamachod/a572cfcc2527046db93101f88011b26e/raw/ffb13f45a79d31223e645611a119397dd127ee3c/alquiler.csv\")\n",
    "df = pd.read_csv(url,sep=';')"
   ],
   "id": "1a7bc410bd99dd09",
   "outputs": [],
   "execution_count": 9
  },
  {
   "metadata": {},
   "cell_type": "markdown",
   "source": "Confirmamos que se haya cargado correctamente mostrando las primeras 5 filas del DataFrame.",
   "id": "b8b17583788bd06"
  },
  {
   "metadata": {
    "ExecuteTime": {
     "end_time": "2025-10-24T17:28:01.534444Z",
     "start_time": "2025-10-24T17:28:01.510919Z"
    }
   },
   "cell_type": "code",
   "source": "df.head(5)",
   "id": "985347d5f31f9f6a",
   "outputs": [
    {
     "data": {
      "text/plain": [
       "                      Tipo           Colonia  Habitaciones  Garages  Suites  \\\n",
       "0                 Cocineta           Condesa             1        0       0   \n",
       "1                     Casa           Polanco             2        0       1   \n",
       "2  Conjunto Comercial/Sala          Santa Fe             0        4       0   \n",
       "3             Departamento  Centro Histórico             1        0       0   \n",
       "4             Departamento         Del Valle             1        0       0   \n",
       "\n",
       "   Area    Valor  Condominio  Impuesto  \n",
       "0    40   5950.0      1750.0     210.0  \n",
       "1   100  24500.0         NaN       NaN  \n",
       "2   150  18200.0     14070.0    3888.5  \n",
       "3    15   2800.0      1365.0      70.0  \n",
       "4    48   2800.0       805.0       NaN  "
      ],
      "text/html": [
       "<div>\n",
       "<style scoped>\n",
       "    .dataframe tbody tr th:only-of-type {\n",
       "        vertical-align: middle;\n",
       "    }\n",
       "\n",
       "    .dataframe tbody tr th {\n",
       "        vertical-align: top;\n",
       "    }\n",
       "\n",
       "    .dataframe thead th {\n",
       "        text-align: right;\n",
       "    }\n",
       "</style>\n",
       "<table border=\"1\" class=\"dataframe\">\n",
       "  <thead>\n",
       "    <tr style=\"text-align: right;\">\n",
       "      <th></th>\n",
       "      <th>Tipo</th>\n",
       "      <th>Colonia</th>\n",
       "      <th>Habitaciones</th>\n",
       "      <th>Garages</th>\n",
       "      <th>Suites</th>\n",
       "      <th>Area</th>\n",
       "      <th>Valor</th>\n",
       "      <th>Condominio</th>\n",
       "      <th>Impuesto</th>\n",
       "    </tr>\n",
       "  </thead>\n",
       "  <tbody>\n",
       "    <tr>\n",
       "      <th>0</th>\n",
       "      <td>Cocineta</td>\n",
       "      <td>Condesa</td>\n",
       "      <td>1</td>\n",
       "      <td>0</td>\n",
       "      <td>0</td>\n",
       "      <td>40</td>\n",
       "      <td>5950.0</td>\n",
       "      <td>1750.0</td>\n",
       "      <td>210.0</td>\n",
       "    </tr>\n",
       "    <tr>\n",
       "      <th>1</th>\n",
       "      <td>Casa</td>\n",
       "      <td>Polanco</td>\n",
       "      <td>2</td>\n",
       "      <td>0</td>\n",
       "      <td>1</td>\n",
       "      <td>100</td>\n",
       "      <td>24500.0</td>\n",
       "      <td>NaN</td>\n",
       "      <td>NaN</td>\n",
       "    </tr>\n",
       "    <tr>\n",
       "      <th>2</th>\n",
       "      <td>Conjunto Comercial/Sala</td>\n",
       "      <td>Santa Fe</td>\n",
       "      <td>0</td>\n",
       "      <td>4</td>\n",
       "      <td>0</td>\n",
       "      <td>150</td>\n",
       "      <td>18200.0</td>\n",
       "      <td>14070.0</td>\n",
       "      <td>3888.5</td>\n",
       "    </tr>\n",
       "    <tr>\n",
       "      <th>3</th>\n",
       "      <td>Departamento</td>\n",
       "      <td>Centro Histórico</td>\n",
       "      <td>1</td>\n",
       "      <td>0</td>\n",
       "      <td>0</td>\n",
       "      <td>15</td>\n",
       "      <td>2800.0</td>\n",
       "      <td>1365.0</td>\n",
       "      <td>70.0</td>\n",
       "    </tr>\n",
       "    <tr>\n",
       "      <th>4</th>\n",
       "      <td>Departamento</td>\n",
       "      <td>Del Valle</td>\n",
       "      <td>1</td>\n",
       "      <td>0</td>\n",
       "      <td>0</td>\n",
       "      <td>48</td>\n",
       "      <td>2800.0</td>\n",
       "      <td>805.0</td>\n",
       "      <td>NaN</td>\n",
       "    </tr>\n",
       "  </tbody>\n",
       "</table>\n",
       "</div>"
      ]
     },
     "execution_count": 10,
     "metadata": {},
     "output_type": "execute_result"
    }
   ],
   "execution_count": 10
  },
  {
   "metadata": {},
   "cell_type": "markdown",
   "source": "Ahora, una tarea que se nos asigno fue saber la cantidad de registros que tenemos en nuestra base de datos, para ello utilizaremos el atributo `shape` del DataFrame.",
   "id": "a8fc954640572b49"
  },
  {
   "metadata": {
    "ExecuteTime": {
     "end_time": "2025-10-24T17:28:01.772135Z",
     "start_time": "2025-10-24T17:28:01.762586Z"
    }
   },
   "cell_type": "code",
   "source": "print('La cantidad de filas y columnas es:',df.shape)",
   "id": "3fb31f972114a3da",
   "outputs": [
    {
     "name": "stdout",
     "output_type": "stream",
     "text": [
      "La cantidad de filas y columnas es: (25121, 9)\n"
     ]
    }
   ],
   "execution_count": 11
  },
  {
   "metadata": {},
   "cell_type": "markdown",
   "source": "Tambien necesitamos conocer los nombres de las columnas que tenemos en nuestro DataFrame.",
   "id": "70195b9b651499f3"
  },
  {
   "metadata": {
    "ExecuteTime": {
     "end_time": "2025-10-24T17:28:01.913271Z",
     "start_time": "2025-10-24T17:28:01.904885Z"
    }
   },
   "cell_type": "code",
   "source": "print('Las columnas son: ',df.columns.tolist())",
   "id": "d3e16a9bfbf41dc4",
   "outputs": [
    {
     "name": "stdout",
     "output_type": "stream",
     "text": [
      "Las columnas son:  ['Tipo', 'Colonia', 'Habitaciones', 'Garages', 'Suites', 'Area', 'Valor', 'Condominio', 'Impuesto']\n"
     ]
    }
   ],
   "execution_count": 12
  },
  {
   "metadata": {},
   "cell_type": "markdown",
   "source": "## **Exploración inicial de los datos**",
   "id": "10c689378a412d9"
  },
  {
   "metadata": {
    "ExecuteTime": {
     "end_time": "2025-10-24T17:28:12.472622Z",
     "start_time": "2025-10-24T17:28:12.444013Z"
    }
   },
   "cell_type": "code",
   "source": "df.sample(5)",
   "id": "fcbba69716bfacc0",
   "outputs": [
    {
     "data": {
      "text/plain": [
       "                          Tipo           Colonia  Habitaciones  Garages  \\\n",
       "23108             Departamento            Juárez             2        0   \n",
       "5804   Conjunto Comercial/Sala  Centro Histórico             0       18   \n",
       "3362              Departamento    Álvaro Obregón             2        0   \n",
       "20160             Departamento              Roma             2        1   \n",
       "23252                 Cocineta           Condesa             1        0   \n",
       "\n",
       "       Suites  Area      Valor  Condominio  Impuesto  \n",
       "23108       0    84     9275.0      3010.0     556.5  \n",
       "5804        0  2964  1258712.0    269727.5       NaN  \n",
       "3362        0    60     2380.0       693.0       NaN  \n",
       "20160       1    50    18900.0         NaN       NaN  \n",
       "23252       0    29     4550.0      3570.0       NaN  "
      ],
      "text/html": [
       "<div>\n",
       "<style scoped>\n",
       "    .dataframe tbody tr th:only-of-type {\n",
       "        vertical-align: middle;\n",
       "    }\n",
       "\n",
       "    .dataframe tbody tr th {\n",
       "        vertical-align: top;\n",
       "    }\n",
       "\n",
       "    .dataframe thead th {\n",
       "        text-align: right;\n",
       "    }\n",
       "</style>\n",
       "<table border=\"1\" class=\"dataframe\">\n",
       "  <thead>\n",
       "    <tr style=\"text-align: right;\">\n",
       "      <th></th>\n",
       "      <th>Tipo</th>\n",
       "      <th>Colonia</th>\n",
       "      <th>Habitaciones</th>\n",
       "      <th>Garages</th>\n",
       "      <th>Suites</th>\n",
       "      <th>Area</th>\n",
       "      <th>Valor</th>\n",
       "      <th>Condominio</th>\n",
       "      <th>Impuesto</th>\n",
       "    </tr>\n",
       "  </thead>\n",
       "  <tbody>\n",
       "    <tr>\n",
       "      <th>23108</th>\n",
       "      <td>Departamento</td>\n",
       "      <td>Juárez</td>\n",
       "      <td>2</td>\n",
       "      <td>0</td>\n",
       "      <td>0</td>\n",
       "      <td>84</td>\n",
       "      <td>9275.0</td>\n",
       "      <td>3010.0</td>\n",
       "      <td>556.5</td>\n",
       "    </tr>\n",
       "    <tr>\n",
       "      <th>5804</th>\n",
       "      <td>Conjunto Comercial/Sala</td>\n",
       "      <td>Centro Histórico</td>\n",
       "      <td>0</td>\n",
       "      <td>18</td>\n",
       "      <td>0</td>\n",
       "      <td>2964</td>\n",
       "      <td>1258712.0</td>\n",
       "      <td>269727.5</td>\n",
       "      <td>NaN</td>\n",
       "    </tr>\n",
       "    <tr>\n",
       "      <th>3362</th>\n",
       "      <td>Departamento</td>\n",
       "      <td>Álvaro Obregón</td>\n",
       "      <td>2</td>\n",
       "      <td>0</td>\n",
       "      <td>0</td>\n",
       "      <td>60</td>\n",
       "      <td>2380.0</td>\n",
       "      <td>693.0</td>\n",
       "      <td>NaN</td>\n",
       "    </tr>\n",
       "    <tr>\n",
       "      <th>20160</th>\n",
       "      <td>Departamento</td>\n",
       "      <td>Roma</td>\n",
       "      <td>2</td>\n",
       "      <td>1</td>\n",
       "      <td>1</td>\n",
       "      <td>50</td>\n",
       "      <td>18900.0</td>\n",
       "      <td>NaN</td>\n",
       "      <td>NaN</td>\n",
       "    </tr>\n",
       "    <tr>\n",
       "      <th>23252</th>\n",
       "      <td>Cocineta</td>\n",
       "      <td>Condesa</td>\n",
       "      <td>1</td>\n",
       "      <td>0</td>\n",
       "      <td>0</td>\n",
       "      <td>29</td>\n",
       "      <td>4550.0</td>\n",
       "      <td>3570.0</td>\n",
       "      <td>NaN</td>\n",
       "    </tr>\n",
       "  </tbody>\n",
       "</table>\n",
       "</div>"
      ]
     },
     "execution_count": 16,
     "metadata": {},
     "output_type": "execute_result"
    }
   ],
   "execution_count": 16
  },
  {
   "metadata": {
    "ExecuteTime": {
     "end_time": "2025-10-24T17:30:27.804915Z",
     "start_time": "2025-10-24T17:30:27.769510Z"
    }
   },
   "cell_type": "code",
   "source": "df.info()",
   "id": "be060bd675677862",
   "outputs": [
    {
     "name": "stdout",
     "output_type": "stream",
     "text": [
      "<class 'pandas.core.frame.DataFrame'>\n",
      "RangeIndex: 25121 entries, 0 to 25120\n",
      "Data columns (total 9 columns):\n",
      " #   Column        Non-Null Count  Dtype  \n",
      "---  ------        --------------  -----  \n",
      " 0   Tipo          25121 non-null  object \n",
      " 1   Colonia       25121 non-null  object \n",
      " 2   Habitaciones  25121 non-null  int64  \n",
      " 3   Garages       25121 non-null  int64  \n",
      " 4   Suites        25121 non-null  int64  \n",
      " 5   Area          25121 non-null  int64  \n",
      " 6   Valor         25107 non-null  float64\n",
      " 7   Condominio    22495 non-null  float64\n",
      " 8   Impuesto      18037 non-null  float64\n",
      "dtypes: float64(3), int64(4), object(2)\n",
      "memory usage: 1.7+ MB\n"
     ]
    }
   ],
   "execution_count": 17
  },
  {
   "metadata": {
    "ExecuteTime": {
     "end_time": "2025-10-24T17:31:14.024078Z",
     "start_time": "2025-10-24T17:31:13.998816Z"
    }
   },
   "cell_type": "code",
   "source": "df['Tipo']",
   "id": "2b01dd9f44b4d527",
   "outputs": [
    {
     "data": {
      "text/plain": [
       "0                       Cocineta\n",
       "1                           Casa\n",
       "2        Conjunto Comercial/Sala\n",
       "3                   Departamento\n",
       "4                   Departamento\n",
       "                  ...           \n",
       "25116    Cochera/Estacionamiento\n",
       "25117                   Cocineta\n",
       "25118               Departamento\n",
       "25119               Departamento\n",
       "25120    Conjunto Comercial/Sala\n",
       "Name: Tipo, Length: 25121, dtype: object"
      ]
     },
     "execution_count": 19,
     "metadata": {},
     "output_type": "execute_result"
    }
   ],
   "execution_count": 19
  },
  {
   "metadata": {
    "ExecuteTime": {
     "end_time": "2025-10-24T17:32:09.924104Z",
     "start_time": "2025-10-24T17:32:09.908336Z"
    }
   },
   "cell_type": "code",
   "source": "df[['Tipo','Valor']]",
   "id": "127a7998644a1998",
   "outputs": [
    {
     "data": {
      "text/plain": [
       "                          Tipo    Valor\n",
       "0                     Cocineta   5950.0\n",
       "1                         Casa  24500.0\n",
       "2      Conjunto Comercial/Sala  18200.0\n",
       "3                 Departamento   2800.0\n",
       "4                 Departamento   2800.0\n",
       "...                        ...      ...\n",
       "25116  Cochera/Estacionamiento  49000.0\n",
       "25117                 Cocineta   2800.0\n",
       "25118             Departamento   4900.0\n",
       "25119             Departamento  10500.0\n",
       "25120  Conjunto Comercial/Sala  22750.0\n",
       "\n",
       "[25121 rows x 2 columns]"
      ],
      "text/html": [
       "<div>\n",
       "<style scoped>\n",
       "    .dataframe tbody tr th:only-of-type {\n",
       "        vertical-align: middle;\n",
       "    }\n",
       "\n",
       "    .dataframe tbody tr th {\n",
       "        vertical-align: top;\n",
       "    }\n",
       "\n",
       "    .dataframe thead th {\n",
       "        text-align: right;\n",
       "    }\n",
       "</style>\n",
       "<table border=\"1\" class=\"dataframe\">\n",
       "  <thead>\n",
       "    <tr style=\"text-align: right;\">\n",
       "      <th></th>\n",
       "      <th>Tipo</th>\n",
       "      <th>Valor</th>\n",
       "    </tr>\n",
       "  </thead>\n",
       "  <tbody>\n",
       "    <tr>\n",
       "      <th>0</th>\n",
       "      <td>Cocineta</td>\n",
       "      <td>5950.0</td>\n",
       "    </tr>\n",
       "    <tr>\n",
       "      <th>1</th>\n",
       "      <td>Casa</td>\n",
       "      <td>24500.0</td>\n",
       "    </tr>\n",
       "    <tr>\n",
       "      <th>2</th>\n",
       "      <td>Conjunto Comercial/Sala</td>\n",
       "      <td>18200.0</td>\n",
       "    </tr>\n",
       "    <tr>\n",
       "      <th>3</th>\n",
       "      <td>Departamento</td>\n",
       "      <td>2800.0</td>\n",
       "    </tr>\n",
       "    <tr>\n",
       "      <th>4</th>\n",
       "      <td>Departamento</td>\n",
       "      <td>2800.0</td>\n",
       "    </tr>\n",
       "    <tr>\n",
       "      <th>...</th>\n",
       "      <td>...</td>\n",
       "      <td>...</td>\n",
       "    </tr>\n",
       "    <tr>\n",
       "      <th>25116</th>\n",
       "      <td>Cochera/Estacionamiento</td>\n",
       "      <td>49000.0</td>\n",
       "    </tr>\n",
       "    <tr>\n",
       "      <th>25117</th>\n",
       "      <td>Cocineta</td>\n",
       "      <td>2800.0</td>\n",
       "    </tr>\n",
       "    <tr>\n",
       "      <th>25118</th>\n",
       "      <td>Departamento</td>\n",
       "      <td>4900.0</td>\n",
       "    </tr>\n",
       "    <tr>\n",
       "      <th>25119</th>\n",
       "      <td>Departamento</td>\n",
       "      <td>10500.0</td>\n",
       "    </tr>\n",
       "    <tr>\n",
       "      <th>25120</th>\n",
       "      <td>Conjunto Comercial/Sala</td>\n",
       "      <td>22750.0</td>\n",
       "    </tr>\n",
       "  </tbody>\n",
       "</table>\n",
       "<p>25121 rows × 2 columns</p>\n",
       "</div>"
      ]
     },
     "execution_count": 21,
     "metadata": {},
     "output_type": "execute_result"
    }
   ],
   "execution_count": 21
  },
  {
   "metadata": {},
   "cell_type": "code",
   "outputs": [],
   "execution_count": null,
   "source": "",
   "id": "d0831f4d69d8213a"
  }
 ],
 "metadata": {
  "kernelspec": {
   "display_name": "Python 3",
   "language": "python",
   "name": "python3"
  },
  "language_info": {
   "codemirror_mode": {
    "name": "ipython",
    "version": 2
   },
   "file_extension": ".py",
   "mimetype": "text/x-python",
   "name": "python",
   "nbconvert_exporter": "python",
   "pygments_lexer": "ipython2",
   "version": "2.7.6"
  }
 },
 "nbformat": 4,
 "nbformat_minor": 5
}
