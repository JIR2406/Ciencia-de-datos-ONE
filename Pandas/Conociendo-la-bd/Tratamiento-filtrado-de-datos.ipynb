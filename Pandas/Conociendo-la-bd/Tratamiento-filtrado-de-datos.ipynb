{
 "cells": [
  {
   "cell_type": "code",
   "id": "initial_id",
   "metadata": {
    "collapsed": true,
    "ExecuteTime": {
     "end_time": "2025-10-24T20:04:19.482523Z",
     "start_time": "2025-10-24T20:04:19.471154Z"
    }
   },
   "source": "import pandas as pd",
   "outputs": [],
   "execution_count": 152
  },
  {
   "metadata": {
    "ExecuteTime": {
     "end_time": "2025-10-24T20:04:19.841261Z",
     "start_time": "2025-10-24T20:04:19.516886Z"
    }
   },
   "cell_type": "code",
   "source": [
    "url = (\"https://gist.githubusercontent.com/ahcamachod/a572cfcc2527046db93101f88011b26e/raw/ffb13f45a79d31223e645611a119397dd127ee3c/alquiler.csv\")\n",
    "df = pd.read_csv(url,sep=';')"
   ],
   "id": "d14459b48b6fb872",
   "outputs": [],
   "execution_count": 153
  },
  {
   "metadata": {
    "ExecuteTime": {
     "end_time": "2025-10-24T20:04:19.855217Z",
     "start_time": "2025-10-24T20:04:19.849206Z"
    }
   },
   "cell_type": "code",
   "source": [
    "# Verificar la existencia de datos nulos.\n",
    "inmuebles_comerciales = ['Conjunto Comercial/Sala',\n",
    "      'Edificio Completo', 'Departamento en Hotel',\n",
    "       'Tienda/Salón', 'Casa Comercial', 'Casa de Vecindad',\n",
    "       'Terreno Estándar', 'Cochera/Estacionamiento', 'Loft',\n",
    "       'Galpón/Depósito/Almacén', 'Tienda en Centro Comercial', 'Rancho',\n",
    "       'Posada/Chalé', 'Estudio', 'Hotel', 'Loteo/Condominio',\n",
    "       'Industria']"
   ],
   "id": "14df618e8ba6b6fd",
   "outputs": [],
   "execution_count": 154
  },
  {
   "metadata": {
    "ExecuteTime": {
     "end_time": "2025-10-24T20:04:19.944148Z",
     "start_time": "2025-10-24T20:04:19.905402Z"
    }
   },
   "cell_type": "code",
   "source": [
    "# Ahora vamos a empezar a filtrar\n",
    "df.query('@inmuebles_comerciales not in Tipo')"
   ],
   "id": "b4b7a3fc3acf4227",
   "outputs": [
    {
     "data": {
      "text/plain": [
       "                     Tipo               Colonia  Habitaciones  Garages  \\\n",
       "0                Cocineta               Condesa             1        0   \n",
       "1                    Casa               Polanco             2        0   \n",
       "3            Departamento      Centro Histórico             1        0   \n",
       "4            Departamento             Del Valle             1        0   \n",
       "5      Casa de Condominio              Santa Fe             5        4   \n",
       "...                   ...                   ...           ...      ...   \n",
       "25114        Departamento              Narvarte             1        0   \n",
       "25115  Casa de Condominio              Santa Fe             5        3   \n",
       "25117            Cocineta      Centro Histórico             0        0   \n",
       "25118        Departamento               Mixcoac             2        1   \n",
       "25119        Departamento  Lomas de Chapultepec             2        0   \n",
       "\n",
       "       Suites  Area    Valor  Condominio  Impuesto  \n",
       "0           0    40   5950.0      1750.0     210.0  \n",
       "1           1   100  24500.0         NaN       NaN  \n",
       "3           0    15   2800.0      1365.0      70.0  \n",
       "4           0    48   2800.0       805.0       NaN  \n",
       "5           5   750  77000.0         NaN       NaN  \n",
       "...       ...   ...      ...         ...       ...  \n",
       "25114       0    28   3500.0      1260.0      87.5  \n",
       "25115       4   450  52500.0      5988.5    8162.0  \n",
       "25117       0    27   2800.0      1225.0      87.5  \n",
       "25118       0    48   4900.0      1781.5     129.5  \n",
       "25119       0    70  10500.0      2660.0       NaN  \n",
       "\n",
       "[16645 rows x 9 columns]"
      ],
      "text/html": [
       "<div>\n",
       "<style scoped>\n",
       "    .dataframe tbody tr th:only-of-type {\n",
       "        vertical-align: middle;\n",
       "    }\n",
       "\n",
       "    .dataframe tbody tr th {\n",
       "        vertical-align: top;\n",
       "    }\n",
       "\n",
       "    .dataframe thead th {\n",
       "        text-align: right;\n",
       "    }\n",
       "</style>\n",
       "<table border=\"1\" class=\"dataframe\">\n",
       "  <thead>\n",
       "    <tr style=\"text-align: right;\">\n",
       "      <th></th>\n",
       "      <th>Tipo</th>\n",
       "      <th>Colonia</th>\n",
       "      <th>Habitaciones</th>\n",
       "      <th>Garages</th>\n",
       "      <th>Suites</th>\n",
       "      <th>Area</th>\n",
       "      <th>Valor</th>\n",
       "      <th>Condominio</th>\n",
       "      <th>Impuesto</th>\n",
       "    </tr>\n",
       "  </thead>\n",
       "  <tbody>\n",
       "    <tr>\n",
       "      <th>0</th>\n",
       "      <td>Cocineta</td>\n",
       "      <td>Condesa</td>\n",
       "      <td>1</td>\n",
       "      <td>0</td>\n",
       "      <td>0</td>\n",
       "      <td>40</td>\n",
       "      <td>5950.0</td>\n",
       "      <td>1750.0</td>\n",
       "      <td>210.0</td>\n",
       "    </tr>\n",
       "    <tr>\n",
       "      <th>1</th>\n",
       "      <td>Casa</td>\n",
       "      <td>Polanco</td>\n",
       "      <td>2</td>\n",
       "      <td>0</td>\n",
       "      <td>1</td>\n",
       "      <td>100</td>\n",
       "      <td>24500.0</td>\n",
       "      <td>NaN</td>\n",
       "      <td>NaN</td>\n",
       "    </tr>\n",
       "    <tr>\n",
       "      <th>3</th>\n",
       "      <td>Departamento</td>\n",
       "      <td>Centro Histórico</td>\n",
       "      <td>1</td>\n",
       "      <td>0</td>\n",
       "      <td>0</td>\n",
       "      <td>15</td>\n",
       "      <td>2800.0</td>\n",
       "      <td>1365.0</td>\n",
       "      <td>70.0</td>\n",
       "    </tr>\n",
       "    <tr>\n",
       "      <th>4</th>\n",
       "      <td>Departamento</td>\n",
       "      <td>Del Valle</td>\n",
       "      <td>1</td>\n",
       "      <td>0</td>\n",
       "      <td>0</td>\n",
       "      <td>48</td>\n",
       "      <td>2800.0</td>\n",
       "      <td>805.0</td>\n",
       "      <td>NaN</td>\n",
       "    </tr>\n",
       "    <tr>\n",
       "      <th>5</th>\n",
       "      <td>Casa de Condominio</td>\n",
       "      <td>Santa Fe</td>\n",
       "      <td>5</td>\n",
       "      <td>4</td>\n",
       "      <td>5</td>\n",
       "      <td>750</td>\n",
       "      <td>77000.0</td>\n",
       "      <td>NaN</td>\n",
       "      <td>NaN</td>\n",
       "    </tr>\n",
       "    <tr>\n",
       "      <th>...</th>\n",
       "      <td>...</td>\n",
       "      <td>...</td>\n",
       "      <td>...</td>\n",
       "      <td>...</td>\n",
       "      <td>...</td>\n",
       "      <td>...</td>\n",
       "      <td>...</td>\n",
       "      <td>...</td>\n",
       "      <td>...</td>\n",
       "    </tr>\n",
       "    <tr>\n",
       "      <th>25114</th>\n",
       "      <td>Departamento</td>\n",
       "      <td>Narvarte</td>\n",
       "      <td>1</td>\n",
       "      <td>0</td>\n",
       "      <td>0</td>\n",
       "      <td>28</td>\n",
       "      <td>3500.0</td>\n",
       "      <td>1260.0</td>\n",
       "      <td>87.5</td>\n",
       "    </tr>\n",
       "    <tr>\n",
       "      <th>25115</th>\n",
       "      <td>Casa de Condominio</td>\n",
       "      <td>Santa Fe</td>\n",
       "      <td>5</td>\n",
       "      <td>3</td>\n",
       "      <td>4</td>\n",
       "      <td>450</td>\n",
       "      <td>52500.0</td>\n",
       "      <td>5988.5</td>\n",
       "      <td>8162.0</td>\n",
       "    </tr>\n",
       "    <tr>\n",
       "      <th>25117</th>\n",
       "      <td>Cocineta</td>\n",
       "      <td>Centro Histórico</td>\n",
       "      <td>0</td>\n",
       "      <td>0</td>\n",
       "      <td>0</td>\n",
       "      <td>27</td>\n",
       "      <td>2800.0</td>\n",
       "      <td>1225.0</td>\n",
       "      <td>87.5</td>\n",
       "    </tr>\n",
       "    <tr>\n",
       "      <th>25118</th>\n",
       "      <td>Departamento</td>\n",
       "      <td>Mixcoac</td>\n",
       "      <td>2</td>\n",
       "      <td>1</td>\n",
       "      <td>0</td>\n",
       "      <td>48</td>\n",
       "      <td>4900.0</td>\n",
       "      <td>1781.5</td>\n",
       "      <td>129.5</td>\n",
       "    </tr>\n",
       "    <tr>\n",
       "      <th>25119</th>\n",
       "      <td>Departamento</td>\n",
       "      <td>Lomas de Chapultepec</td>\n",
       "      <td>2</td>\n",
       "      <td>0</td>\n",
       "      <td>0</td>\n",
       "      <td>70</td>\n",
       "      <td>10500.0</td>\n",
       "      <td>2660.0</td>\n",
       "      <td>NaN</td>\n",
       "    </tr>\n",
       "  </tbody>\n",
       "</table>\n",
       "<p>16645 rows × 9 columns</p>\n",
       "</div>"
      ]
     },
     "execution_count": 155,
     "metadata": {},
     "output_type": "execute_result"
    }
   ],
   "execution_count": 155
  },
  {
   "metadata": {
    "ExecuteTime": {
     "end_time": "2025-10-24T20:04:20.003790Z",
     "start_time": "2025-10-24T20:04:19.994254Z"
    }
   },
   "cell_type": "code",
   "source": "df_residencial = df.query('@inmuebles_comerciales not in Tipo')",
   "id": "b0afd0f95d5b9221",
   "outputs": [],
   "execution_count": 156
  },
  {
   "metadata": {},
   "cell_type": "markdown",
   "source": "# Tratamiento de datos nulos",
   "id": "6b39dba9c099988f"
  },
  {
   "metadata": {},
   "cell_type": "markdown",
   "source": [
    "Una de las formas mas sencillas de poder encontrar datos nulos en pandas es utilizar la función `isnull()`, la cual nos devolverá un DataFrame de booleanos indicando si el valor es nulo o no.\n",
    "O tambien agrupar por columnas y usar `isnull().sum()` para ver la cantidad de datos nulos por columna."
   ],
   "id": "1bc6021c825fa646"
  },
  {
   "metadata": {
    "ExecuteTime": {
     "end_time": "2025-10-24T20:04:20.108576Z",
     "start_time": "2025-10-24T20:04:20.095665Z"
    }
   },
   "cell_type": "code",
   "source": "df_residencial.isnull().sum()",
   "id": "822132beb9c3918a",
   "outputs": [
    {
     "data": {
      "text/plain": [
       "Tipo               0\n",
       "Colonia            0\n",
       "Habitaciones       0\n",
       "Garages            0\n",
       "Suites             0\n",
       "Area               0\n",
       "Valor              7\n",
       "Condominio      1007\n",
       "Impuesto        4469\n",
       "dtype: int64"
      ]
     },
     "execution_count": 157,
     "metadata": {},
     "output_type": "execute_result"
    }
   ],
   "execution_count": 157
  },
  {
   "metadata": {},
   "cell_type": "markdown",
   "source": "En este caso a los datos nulos se les agregara un 0",
   "id": "f223fa55eaef06b5"
  },
  {
   "metadata": {
    "ExecuteTime": {
     "end_time": "2025-10-24T20:04:20.531016Z",
     "start_time": "2025-10-24T20:04:20.504391Z"
    }
   },
   "cell_type": "code",
   "source": [
    "df_residencial = df.fillna(0) # Rellenar los datos nulos con 0\n",
    "df_residencial.isnull().sum()"
   ],
   "id": "c65088ffc1e8bdb1",
   "outputs": [
    {
     "data": {
      "text/plain": [
       "Tipo            0\n",
       "Colonia         0\n",
       "Habitaciones    0\n",
       "Garages         0\n",
       "Suites          0\n",
       "Area            0\n",
       "Valor           0\n",
       "Condominio      0\n",
       "Impuesto        0\n",
       "dtype: int64"
      ]
     },
     "execution_count": 158,
     "metadata": {},
     "output_type": "execute_result"
    }
   ],
   "execution_count": 158
  },
  {
   "metadata": {},
   "cell_type": "markdown",
   "source": "> Existen varias formas de tratar datos nulos con Pandas. Algunas de las formas principales son:",
   "id": "8b9c079d288826a0"
  },
  {
   "metadata": {},
   "cell_type": "markdown",
   "source": [
    "- `Eliminar los datos nulos`: Es posible eliminar las filas o columnas que contienen valores nulos utilizando el método dropna(). Este método elimina todas las filas o columnas que tienen al menos un valor nulo.\n",
    "\n",
    "- `Llenar los datos nulos`: Utilizando el método fillna(), podemos llenar los valores nulos con un valor específico. Además, también es posible utilizar argumentos específicos del método fillna(), como method=\"ffill\" o method=\"bfill\", para llenar los valores nulos con el valor anterior o posterior, respectivamente.\n",
    "\n",
    "- `Interpolar los datos nulos`: Es posible utilizar el método interpolate() para llenar los valores nulos con valores interpolados, es decir, valores calculados a partir de los valores vecinos."
   ],
   "id": "a5e0447ab58f0608"
  },
  {
   "metadata": {},
   "cell_type": "markdown",
   "source": "## Remover registros inconsistentes",
   "id": "246e3905df8d141c"
  },
  {
   "metadata": {
    "ExecuteTime": {
     "end_time": "2025-10-24T20:04:20.683185Z",
     "start_time": "2025-10-24T20:04:20.667016Z"
    }
   },
   "cell_type": "code",
   "source": "df_residencial.query('Valor == 0 | Condominio == 0').index",
   "id": "9c206068ae6eb6d3",
   "outputs": [
    {
     "data": {
      "text/plain": [
       "Index([    1,     5,     7,    11,    24,    49,    53,    74,    78,    96,\n",
       "       ...\n",
       "       25010, 25014, 25029, 25032, 25053, 25055, 25086, 25098, 25099, 25116],\n",
       "      dtype='int64', length=2638)"
      ]
     },
     "execution_count": 159,
     "metadata": {},
     "output_type": "execute_result"
    }
   ],
   "execution_count": 159
  },
  {
   "metadata": {
    "ExecuteTime": {
     "end_time": "2025-10-24T20:04:20.835460Z",
     "start_time": "2025-10-24T20:04:20.820519Z"
    }
   },
   "cell_type": "code",
   "source": "df_remover = df_residencial.query('Valor == 0 | Condominio == 0').index",
   "id": "c56bca5dc509a53a",
   "outputs": [],
   "execution_count": 160
  },
  {
   "metadata": {
    "ExecuteTime": {
     "end_time": "2025-10-24T20:04:20.895912Z",
     "start_time": "2025-10-24T20:04:20.886842Z"
    }
   },
   "cell_type": "code",
   "source": "df_residencial.drop(df_remover,axis = 0, inplace=True)",
   "id": "36b4a76cc5eda40b",
   "outputs": [],
   "execution_count": 161
  },
  {
   "metadata": {
    "ExecuteTime": {
     "end_time": "2025-10-24T20:04:20.923253Z",
     "start_time": "2025-10-24T20:04:20.911864Z"
    }
   },
   "cell_type": "code",
   "source": "df_residencial.head()",
   "id": "5458cb44ab89d6",
   "outputs": [
    {
     "data": {
      "text/plain": [
       "                      Tipo           Colonia  Habitaciones  Garages  Suites  \\\n",
       "0                 Cocineta           Condesa             1        0       0   \n",
       "2  Conjunto Comercial/Sala          Santa Fe             0        4       0   \n",
       "3             Departamento  Centro Histórico             1        0       0   \n",
       "4             Departamento         Del Valle             1        0       0   \n",
       "6  Conjunto Comercial/Sala  Centro Histórico             0        3       0   \n",
       "\n",
       "   Area     Valor  Condominio  Impuesto  \n",
       "0    40    5950.0      1750.0     210.0  \n",
       "2   150   18200.0     14070.0    3888.5  \n",
       "3    15    2800.0      1365.0      70.0  \n",
       "4    48    2800.0       805.0       0.0  \n",
       "6   695  122500.0     67175.5   10605.0  "
      ],
      "text/html": [
       "<div>\n",
       "<style scoped>\n",
       "    .dataframe tbody tr th:only-of-type {\n",
       "        vertical-align: middle;\n",
       "    }\n",
       "\n",
       "    .dataframe tbody tr th {\n",
       "        vertical-align: top;\n",
       "    }\n",
       "\n",
       "    .dataframe thead th {\n",
       "        text-align: right;\n",
       "    }\n",
       "</style>\n",
       "<table border=\"1\" class=\"dataframe\">\n",
       "  <thead>\n",
       "    <tr style=\"text-align: right;\">\n",
       "      <th></th>\n",
       "      <th>Tipo</th>\n",
       "      <th>Colonia</th>\n",
       "      <th>Habitaciones</th>\n",
       "      <th>Garages</th>\n",
       "      <th>Suites</th>\n",
       "      <th>Area</th>\n",
       "      <th>Valor</th>\n",
       "      <th>Condominio</th>\n",
       "      <th>Impuesto</th>\n",
       "    </tr>\n",
       "  </thead>\n",
       "  <tbody>\n",
       "    <tr>\n",
       "      <th>0</th>\n",
       "      <td>Cocineta</td>\n",
       "      <td>Condesa</td>\n",
       "      <td>1</td>\n",
       "      <td>0</td>\n",
       "      <td>0</td>\n",
       "      <td>40</td>\n",
       "      <td>5950.0</td>\n",
       "      <td>1750.0</td>\n",
       "      <td>210.0</td>\n",
       "    </tr>\n",
       "    <tr>\n",
       "      <th>2</th>\n",
       "      <td>Conjunto Comercial/Sala</td>\n",
       "      <td>Santa Fe</td>\n",
       "      <td>0</td>\n",
       "      <td>4</td>\n",
       "      <td>0</td>\n",
       "      <td>150</td>\n",
       "      <td>18200.0</td>\n",
       "      <td>14070.0</td>\n",
       "      <td>3888.5</td>\n",
       "    </tr>\n",
       "    <tr>\n",
       "      <th>3</th>\n",
       "      <td>Departamento</td>\n",
       "      <td>Centro Histórico</td>\n",
       "      <td>1</td>\n",
       "      <td>0</td>\n",
       "      <td>0</td>\n",
       "      <td>15</td>\n",
       "      <td>2800.0</td>\n",
       "      <td>1365.0</td>\n",
       "      <td>70.0</td>\n",
       "    </tr>\n",
       "    <tr>\n",
       "      <th>4</th>\n",
       "      <td>Departamento</td>\n",
       "      <td>Del Valle</td>\n",
       "      <td>1</td>\n",
       "      <td>0</td>\n",
       "      <td>0</td>\n",
       "      <td>48</td>\n",
       "      <td>2800.0</td>\n",
       "      <td>805.0</td>\n",
       "      <td>0.0</td>\n",
       "    </tr>\n",
       "    <tr>\n",
       "      <th>6</th>\n",
       "      <td>Conjunto Comercial/Sala</td>\n",
       "      <td>Centro Histórico</td>\n",
       "      <td>0</td>\n",
       "      <td>3</td>\n",
       "      <td>0</td>\n",
       "      <td>695</td>\n",
       "      <td>122500.0</td>\n",
       "      <td>67175.5</td>\n",
       "      <td>10605.0</td>\n",
       "    </tr>\n",
       "  </tbody>\n",
       "</table>\n",
       "</div>"
      ]
     },
     "execution_count": 162,
     "metadata": {},
     "output_type": "execute_result"
    }
   ],
   "execution_count": 162
  },
  {
   "metadata": {
    "ExecuteTime": {
     "end_time": "2025-10-24T20:04:20.982380Z",
     "start_time": "2025-10-24T20:04:20.972630Z"
    }
   },
   "cell_type": "code",
   "source": [
    "# Ahora vamos a ver el tipo y vamos a quitar el tipo porque como todo son departamentos no nos sirve de nada que esten ahi\n",
    "df_residencial = df_residencial.query('Tipo == \"Departamento\"')\n"
   ],
   "id": "c8bdd20e9bd8a961",
   "outputs": [],
   "execution_count": 163
  },
  {
   "metadata": {
    "ExecuteTime": {
     "end_time": "2025-10-24T20:04:21.079093Z",
     "start_time": "2025-10-24T20:04:21.062193Z"
    }
   },
   "cell_type": "code",
   "source": [
    "# Eliminamos la columna Tipo\n",
    "df_residencial.drop('Tipo',axis = 1,inplace = True )\n",
    "df_residencial.sample(10)"
   ],
   "id": "4612c87c4eb71791",
   "outputs": [
    {
     "data": {
      "text/plain": [
       "        Colonia  Habitaciones  Garages  Suites  Area    Valor  Condominio  \\\n",
       "5768   Coyoacán             3        1       1   150  16800.0      4900.0   \n",
       "17319   Condesa             1        0       1    41   5600.0      1806.0   \n",
       "1988    Condesa             4        2       2   389  43400.0     12327.0   \n",
       "10978  Narvarte             3        0       0   110   7350.0      2870.0   \n",
       "23948  Santa Fe             4        2       1   297  26281.5     12950.0   \n",
       "24810   Condesa             2        0       0   118  12250.0      3850.0   \n",
       "17477      Roma             3        1       1   108  21000.0      4830.0   \n",
       "17124   Condesa             1        0       0    56   3850.0      3220.0   \n",
       "2196    Condesa             4        2       1   298  26250.0      9163.0   \n",
       "21149  Santa Fe             4        3       4   206  31500.0     10500.0   \n",
       "\n",
       "       Impuesto  \n",
       "5768      882.0  \n",
       "17319     238.0  \n",
       "1988        0.0  \n",
       "10978     385.0  \n",
       "23948   39515.0  \n",
       "24810     570.5  \n",
       "17477    1274.0  \n",
       "17124       0.0  \n",
       "2196     1067.5  \n",
       "21149   12250.0  "
      ],
      "text/html": [
       "<div>\n",
       "<style scoped>\n",
       "    .dataframe tbody tr th:only-of-type {\n",
       "        vertical-align: middle;\n",
       "    }\n",
       "\n",
       "    .dataframe tbody tr th {\n",
       "        vertical-align: top;\n",
       "    }\n",
       "\n",
       "    .dataframe thead th {\n",
       "        text-align: right;\n",
       "    }\n",
       "</style>\n",
       "<table border=\"1\" class=\"dataframe\">\n",
       "  <thead>\n",
       "    <tr style=\"text-align: right;\">\n",
       "      <th></th>\n",
       "      <th>Colonia</th>\n",
       "      <th>Habitaciones</th>\n",
       "      <th>Garages</th>\n",
       "      <th>Suites</th>\n",
       "      <th>Area</th>\n",
       "      <th>Valor</th>\n",
       "      <th>Condominio</th>\n",
       "      <th>Impuesto</th>\n",
       "    </tr>\n",
       "  </thead>\n",
       "  <tbody>\n",
       "    <tr>\n",
       "      <th>5768</th>\n",
       "      <td>Coyoacán</td>\n",
       "      <td>3</td>\n",
       "      <td>1</td>\n",
       "      <td>1</td>\n",
       "      <td>150</td>\n",
       "      <td>16800.0</td>\n",
       "      <td>4900.0</td>\n",
       "      <td>882.0</td>\n",
       "    </tr>\n",
       "    <tr>\n",
       "      <th>17319</th>\n",
       "      <td>Condesa</td>\n",
       "      <td>1</td>\n",
       "      <td>0</td>\n",
       "      <td>1</td>\n",
       "      <td>41</td>\n",
       "      <td>5600.0</td>\n",
       "      <td>1806.0</td>\n",
       "      <td>238.0</td>\n",
       "    </tr>\n",
       "    <tr>\n",
       "      <th>1988</th>\n",
       "      <td>Condesa</td>\n",
       "      <td>4</td>\n",
       "      <td>2</td>\n",
       "      <td>2</td>\n",
       "      <td>389</td>\n",
       "      <td>43400.0</td>\n",
       "      <td>12327.0</td>\n",
       "      <td>0.0</td>\n",
       "    </tr>\n",
       "    <tr>\n",
       "      <th>10978</th>\n",
       "      <td>Narvarte</td>\n",
       "      <td>3</td>\n",
       "      <td>0</td>\n",
       "      <td>0</td>\n",
       "      <td>110</td>\n",
       "      <td>7350.0</td>\n",
       "      <td>2870.0</td>\n",
       "      <td>385.0</td>\n",
       "    </tr>\n",
       "    <tr>\n",
       "      <th>23948</th>\n",
       "      <td>Santa Fe</td>\n",
       "      <td>4</td>\n",
       "      <td>2</td>\n",
       "      <td>1</td>\n",
       "      <td>297</td>\n",
       "      <td>26281.5</td>\n",
       "      <td>12950.0</td>\n",
       "      <td>39515.0</td>\n",
       "    </tr>\n",
       "    <tr>\n",
       "      <th>24810</th>\n",
       "      <td>Condesa</td>\n",
       "      <td>2</td>\n",
       "      <td>0</td>\n",
       "      <td>0</td>\n",
       "      <td>118</td>\n",
       "      <td>12250.0</td>\n",
       "      <td>3850.0</td>\n",
       "      <td>570.5</td>\n",
       "    </tr>\n",
       "    <tr>\n",
       "      <th>17477</th>\n",
       "      <td>Roma</td>\n",
       "      <td>3</td>\n",
       "      <td>1</td>\n",
       "      <td>1</td>\n",
       "      <td>108</td>\n",
       "      <td>21000.0</td>\n",
       "      <td>4830.0</td>\n",
       "      <td>1274.0</td>\n",
       "    </tr>\n",
       "    <tr>\n",
       "      <th>17124</th>\n",
       "      <td>Condesa</td>\n",
       "      <td>1</td>\n",
       "      <td>0</td>\n",
       "      <td>0</td>\n",
       "      <td>56</td>\n",
       "      <td>3850.0</td>\n",
       "      <td>3220.0</td>\n",
       "      <td>0.0</td>\n",
       "    </tr>\n",
       "    <tr>\n",
       "      <th>2196</th>\n",
       "      <td>Condesa</td>\n",
       "      <td>4</td>\n",
       "      <td>2</td>\n",
       "      <td>1</td>\n",
       "      <td>298</td>\n",
       "      <td>26250.0</td>\n",
       "      <td>9163.0</td>\n",
       "      <td>1067.5</td>\n",
       "    </tr>\n",
       "    <tr>\n",
       "      <th>21149</th>\n",
       "      <td>Santa Fe</td>\n",
       "      <td>4</td>\n",
       "      <td>3</td>\n",
       "      <td>4</td>\n",
       "      <td>206</td>\n",
       "      <td>31500.0</td>\n",
       "      <td>10500.0</td>\n",
       "      <td>12250.0</td>\n",
       "    </tr>\n",
       "  </tbody>\n",
       "</table>\n",
       "</div>"
      ]
     },
     "execution_count": 164,
     "metadata": {},
     "output_type": "execute_result"
    }
   ],
   "execution_count": 164
  },
  {
   "metadata": {},
   "cell_type": "markdown",
   "source": "El método `drop()` de la biblioteca Pandas permite eliminar una o más filas y/o columnas de un DataFrame. Esta eliminación se puede realizar de forma permanente en el DataFrame original. Es posible especificar los índices de las filas y/o columnas que se deben eliminar, así como el eje en el que debe ocurrir la eliminación.",
   "id": "ff70f5e6b98180c6"
  },
  {
   "metadata": {},
   "cell_type": "markdown",
   "source": "# **Aplicar Filtros**",
   "id": "ee5ac0e6a8872a6e"
  },
  {
   "metadata": {
    "ExecuteTime": {
     "end_time": "2025-10-24T20:04:21.189569Z",
     "start_time": "2025-10-24T20:04:21.178994Z"
    }
   },
   "cell_type": "code",
   "source": [
    "df_f1 = df_residencial.query('(Habitaciones == 1 & Valor < 4200) ')\n",
    "\n",
    "df_f2 = df_residencial.query('(Habitaciones == 2 & Valor < 10500 & Area > 70)')\n"
   ],
   "id": "2e0482a4480f7854",
   "outputs": [],
   "execution_count": 165
  },
  {
   "metadata": {},
   "cell_type": "markdown",
   "source": "### Exportación de datos",
   "id": "eaabacd3f61d6653"
  },
  {
   "metadata": {
    "ExecuteTime": {
     "end_time": "2025-10-24T20:04:21.367134Z",
     "start_time": "2025-10-24T20:04:21.305650Z"
    }
   },
   "cell_type": "code",
   "source": [
    "df_residencial.to_csv('./data/alquiler_residencial_limpio.csv',index=False,sep = ';')\n",
    "df_f1.to_csv('./data/alquiler_residencial_filtro1.csv',index=False,sep = ';')\n",
    "df_f2.to_csv('./data/alquiler_residencial_filtro2.csv',index=False,sep = ';')"
   ],
   "id": "4736173a971a0a60",
   "outputs": [],
   "execution_count": 166
  }
 ],
 "metadata": {
  "kernelspec": {
   "display_name": "Python 3",
   "language": "python",
   "name": "python3"
  },
  "language_info": {
   "codemirror_mode": {
    "name": "ipython",
    "version": 2
   },
   "file_extension": ".py",
   "mimetype": "text/x-python",
   "name": "python",
   "nbconvert_exporter": "python",
   "pygments_lexer": "ipython2",
   "version": "2.7.6"
  }
 },
 "nbformat": 4,
 "nbformat_minor": 5
}
