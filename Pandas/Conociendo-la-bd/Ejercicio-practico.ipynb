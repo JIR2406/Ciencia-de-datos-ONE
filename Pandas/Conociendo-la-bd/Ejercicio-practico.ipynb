{
 "cells": [
  {
   "cell_type": "code",
   "id": "initial_id",
   "metadata": {
    "collapsed": true,
    "ExecuteTime": {
     "end_time": "2025-10-24T20:24:45.530276Z",
     "start_time": "2025-10-24T20:24:45.522009Z"
    }
   },
   "source": [
    "import pandas as pd\n",
    "from io import StringIO"
   ],
   "outputs": [],
   "execution_count": 102
  },
  {
   "metadata": {
    "ExecuteTime": {
     "end_time": "2025-10-24T20:24:45.557950Z",
     "start_time": "2025-10-24T20:24:45.546320Z"
    }
   },
   "cell_type": "code",
   "source": [
    "data = \"\"\"Nombre,Edad,Nota,Aprobado\n",
    "Alberto,20,7.5,True\n",
    "Ana,18,,False\n",
    "Camila,27,2.5,False\n",
    "David,18,5.0,False\n",
    "Brian,21,10.0,True\n",
    "Bruna,23,,False\n",
    "Daniela,21,7.0,True\n",
    "Carlos,19,6.0,False\n",
    "Alicia,35,5.6,False\n",
    "Victor,28,,False\n",
    "Danilo,21,,False\n",
    "Ignacio,24,4.5,False\n",
    "Stephany,26,10.0,True\n",
    "Miriam,25,9.0,True\n",
    "Pablo,37,,False\n",
    "Milena,29,7.0,True\n",
    "Lucas,33,,False\n",
    "Nadia,34,8.0,Verdadero\n",
    "\"\"\"\n",
    "\n",
    "# Cargar los registros en un DataFrame\n",
    "df = pd.read_csv(StringIO(data))"
   ],
   "id": "90799946e6284967",
   "outputs": [],
   "execution_count": 103
  },
  {
   "metadata": {
    "ExecuteTime": {
     "end_time": "2025-10-24T20:24:45.583093Z",
     "start_time": "2025-10-24T20:24:45.569967Z"
    }
   },
   "cell_type": "code",
   "source": "df.info()",
   "id": "f08e8b5f83f9fb94",
   "outputs": [
    {
     "name": "stdout",
     "output_type": "stream",
     "text": [
      "<class 'pandas.core.frame.DataFrame'>\n",
      "RangeIndex: 18 entries, 0 to 17\n",
      "Data columns (total 4 columns):\n",
      " #   Column    Non-Null Count  Dtype  \n",
      "---  ------    --------------  -----  \n",
      " 0   Nombre    18 non-null     object \n",
      " 1   Edad      18 non-null     int64  \n",
      " 2   Nota      12 non-null     float64\n",
      " 3   Aprobado  18 non-null     object \n",
      "dtypes: float64(1), int64(1), object(2)\n",
      "memory usage: 708.0+ bytes\n"
     ]
    }
   ],
   "execution_count": 104
  },
  {
   "metadata": {},
   "cell_type": "markdown",
   "source": [
    "# **Tareas**\n",
    "- Verifica si la base de datos contiene datos nulos y, en caso de tenerlos, realiza el tratamiento de estos datos nulos de la manera que consideres más coherente con la situación.\n",
    "\n",
    "- Los estudiantes \"Alicia\" y \"Carlos\" ya no forman parte del grupo. Por lo tanto, elimínalos de la base de datos.\n",
    "\n",
    "- Aplica un filtro que seleccione solo a los estudiantes que fueron aprobados.\n",
    "\n",
    "- Guarda el DataFrame que contiene solo a los estudiantes aprobados en un archivo CSV llamado \"alumnos_aprobados.csv\"."
   ],
   "id": "832bff9547bed341"
  },
  {
   "metadata": {
    "ExecuteTime": {
     "end_time": "2025-10-24T20:24:45.606279Z",
     "start_time": "2025-10-24T20:24:45.598105Z"
    }
   },
   "cell_type": "code",
   "source": [
    "# 1. Verificar y tratar datos nulos\n",
    "df.isnull().sum()"
   ],
   "id": "6e3d45dcfe152c29",
   "outputs": [
    {
     "data": {
      "text/plain": [
       "Nombre      0\n",
       "Edad        0\n",
       "Nota        6\n",
       "Aprobado    0\n",
       "dtype: int64"
      ]
     },
     "execution_count": 105,
     "metadata": {},
     "output_type": "execute_result"
    }
   ],
   "execution_count": 105
  },
  {
   "metadata": {
    "ExecuteTime": {
     "end_time": "2025-10-24T20:24:45.676877Z",
     "start_time": "2025-10-24T20:24:45.664399Z"
    }
   },
   "cell_type": "code",
   "source": [
    "df['Nota'] = df['Nota'].fillna(0)\n",
    "df.isnull().sum()"
   ],
   "id": "3965ac8cbf83b073",
   "outputs": [
    {
     "data": {
      "text/plain": [
       "Nombre      0\n",
       "Edad        0\n",
       "Nota        0\n",
       "Aprobado    0\n",
       "dtype: int64"
      ]
     },
     "execution_count": 106,
     "metadata": {},
     "output_type": "execute_result"
    }
   ],
   "execution_count": 106
  },
  {
   "metadata": {
    "ExecuteTime": {
     "end_time": "2025-10-24T20:24:45.846066Z",
     "start_time": "2025-10-24T20:24:45.833134Z"
    }
   },
   "cell_type": "code",
   "source": [
    "# 2, Eliminar estudiantes \"Alicia\" y \"Carlos\"\n",
    "df.drop(df.query(\"Nombre = = 'Alicia' or Nombre == 'Carlos'\").index, inplace=True)\n",
    "df"
   ],
   "id": "409f7a418260bfb8",
   "outputs": [
    {
     "data": {
      "text/plain": [
       "      Nombre  Edad  Nota   Aprobado\n",
       "0    Alberto    20   7.5       True\n",
       "1        Ana    18   0.0      False\n",
       "2     Camila    27   2.5      False\n",
       "3      David    18   5.0      False\n",
       "4      Brian    21  10.0       True\n",
       "5      Bruna    23   0.0      False\n",
       "6    Daniela    21   7.0       True\n",
       "9     Victor    28   0.0      False\n",
       "10    Danilo    21   0.0      False\n",
       "11   Ignacio    24   4.5      False\n",
       "12  Stephany    26  10.0       True\n",
       "13    Miriam    25   9.0       True\n",
       "14     Pablo    37   0.0      False\n",
       "15    Milena    29   7.0       True\n",
       "16     Lucas    33   0.0      False\n",
       "17     Nadia    34   8.0  Verdadero"
      ],
      "text/html": [
       "<div>\n",
       "<style scoped>\n",
       "    .dataframe tbody tr th:only-of-type {\n",
       "        vertical-align: middle;\n",
       "    }\n",
       "\n",
       "    .dataframe tbody tr th {\n",
       "        vertical-align: top;\n",
       "    }\n",
       "\n",
       "    .dataframe thead th {\n",
       "        text-align: right;\n",
       "    }\n",
       "</style>\n",
       "<table border=\"1\" class=\"dataframe\">\n",
       "  <thead>\n",
       "    <tr style=\"text-align: right;\">\n",
       "      <th></th>\n",
       "      <th>Nombre</th>\n",
       "      <th>Edad</th>\n",
       "      <th>Nota</th>\n",
       "      <th>Aprobado</th>\n",
       "    </tr>\n",
       "  </thead>\n",
       "  <tbody>\n",
       "    <tr>\n",
       "      <th>0</th>\n",
       "      <td>Alberto</td>\n",
       "      <td>20</td>\n",
       "      <td>7.5</td>\n",
       "      <td>True</td>\n",
       "    </tr>\n",
       "    <tr>\n",
       "      <th>1</th>\n",
       "      <td>Ana</td>\n",
       "      <td>18</td>\n",
       "      <td>0.0</td>\n",
       "      <td>False</td>\n",
       "    </tr>\n",
       "    <tr>\n",
       "      <th>2</th>\n",
       "      <td>Camila</td>\n",
       "      <td>27</td>\n",
       "      <td>2.5</td>\n",
       "      <td>False</td>\n",
       "    </tr>\n",
       "    <tr>\n",
       "      <th>3</th>\n",
       "      <td>David</td>\n",
       "      <td>18</td>\n",
       "      <td>5.0</td>\n",
       "      <td>False</td>\n",
       "    </tr>\n",
       "    <tr>\n",
       "      <th>4</th>\n",
       "      <td>Brian</td>\n",
       "      <td>21</td>\n",
       "      <td>10.0</td>\n",
       "      <td>True</td>\n",
       "    </tr>\n",
       "    <tr>\n",
       "      <th>5</th>\n",
       "      <td>Bruna</td>\n",
       "      <td>23</td>\n",
       "      <td>0.0</td>\n",
       "      <td>False</td>\n",
       "    </tr>\n",
       "    <tr>\n",
       "      <th>6</th>\n",
       "      <td>Daniela</td>\n",
       "      <td>21</td>\n",
       "      <td>7.0</td>\n",
       "      <td>True</td>\n",
       "    </tr>\n",
       "    <tr>\n",
       "      <th>9</th>\n",
       "      <td>Victor</td>\n",
       "      <td>28</td>\n",
       "      <td>0.0</td>\n",
       "      <td>False</td>\n",
       "    </tr>\n",
       "    <tr>\n",
       "      <th>10</th>\n",
       "      <td>Danilo</td>\n",
       "      <td>21</td>\n",
       "      <td>0.0</td>\n",
       "      <td>False</td>\n",
       "    </tr>\n",
       "    <tr>\n",
       "      <th>11</th>\n",
       "      <td>Ignacio</td>\n",
       "      <td>24</td>\n",
       "      <td>4.5</td>\n",
       "      <td>False</td>\n",
       "    </tr>\n",
       "    <tr>\n",
       "      <th>12</th>\n",
       "      <td>Stephany</td>\n",
       "      <td>26</td>\n",
       "      <td>10.0</td>\n",
       "      <td>True</td>\n",
       "    </tr>\n",
       "    <tr>\n",
       "      <th>13</th>\n",
       "      <td>Miriam</td>\n",
       "      <td>25</td>\n",
       "      <td>9.0</td>\n",
       "      <td>True</td>\n",
       "    </tr>\n",
       "    <tr>\n",
       "      <th>14</th>\n",
       "      <td>Pablo</td>\n",
       "      <td>37</td>\n",
       "      <td>0.0</td>\n",
       "      <td>False</td>\n",
       "    </tr>\n",
       "    <tr>\n",
       "      <th>15</th>\n",
       "      <td>Milena</td>\n",
       "      <td>29</td>\n",
       "      <td>7.0</td>\n",
       "      <td>True</td>\n",
       "    </tr>\n",
       "    <tr>\n",
       "      <th>16</th>\n",
       "      <td>Lucas</td>\n",
       "      <td>33</td>\n",
       "      <td>0.0</td>\n",
       "      <td>False</td>\n",
       "    </tr>\n",
       "    <tr>\n",
       "      <th>17</th>\n",
       "      <td>Nadia</td>\n",
       "      <td>34</td>\n",
       "      <td>8.0</td>\n",
       "      <td>Verdadero</td>\n",
       "    </tr>\n",
       "  </tbody>\n",
       "</table>\n",
       "</div>"
      ]
     },
     "execution_count": 107,
     "metadata": {},
     "output_type": "execute_result"
    }
   ],
   "execution_count": 107
  },
  {
   "metadata": {
    "ExecuteTime": {
     "end_time": "2025-10-24T20:27:41.652730Z",
     "start_time": "2025-10-24T20:27:41.636046Z"
    }
   },
   "cell_type": "code",
   "source": [
    "# 3. Aplicar filtro para estudiantes aprobados\n",
    "seleccion = df['Aprobado'] != 'False'\n",
    "df_aprobado = df[seleccion]\n",
    "df_aprobado.loc[:, 'Aprobado'] = df_aprobado['Aprobado'].replace({'Verdadero': 'True'})\n",
    "df_aprobado\n"
   ],
   "id": "be1681165e52e8d5",
   "outputs": [
    {
     "data": {
      "text/plain": [
       "      Nombre  Edad  Nota Aprobado\n",
       "0    Alberto    20   7.5     True\n",
       "4      Brian    21  10.0     True\n",
       "6    Daniela    21   7.0     True\n",
       "12  Stephany    26  10.0     True\n",
       "13    Miriam    25   9.0     True\n",
       "15    Milena    29   7.0     True\n",
       "17     Nadia    34   8.0     True"
      ],
      "text/html": [
       "<div>\n",
       "<style scoped>\n",
       "    .dataframe tbody tr th:only-of-type {\n",
       "        vertical-align: middle;\n",
       "    }\n",
       "\n",
       "    .dataframe tbody tr th {\n",
       "        vertical-align: top;\n",
       "    }\n",
       "\n",
       "    .dataframe thead th {\n",
       "        text-align: right;\n",
       "    }\n",
       "</style>\n",
       "<table border=\"1\" class=\"dataframe\">\n",
       "  <thead>\n",
       "    <tr style=\"text-align: right;\">\n",
       "      <th></th>\n",
       "      <th>Nombre</th>\n",
       "      <th>Edad</th>\n",
       "      <th>Nota</th>\n",
       "      <th>Aprobado</th>\n",
       "    </tr>\n",
       "  </thead>\n",
       "  <tbody>\n",
       "    <tr>\n",
       "      <th>0</th>\n",
       "      <td>Alberto</td>\n",
       "      <td>20</td>\n",
       "      <td>7.5</td>\n",
       "      <td>True</td>\n",
       "    </tr>\n",
       "    <tr>\n",
       "      <th>4</th>\n",
       "      <td>Brian</td>\n",
       "      <td>21</td>\n",
       "      <td>10.0</td>\n",
       "      <td>True</td>\n",
       "    </tr>\n",
       "    <tr>\n",
       "      <th>6</th>\n",
       "      <td>Daniela</td>\n",
       "      <td>21</td>\n",
       "      <td>7.0</td>\n",
       "      <td>True</td>\n",
       "    </tr>\n",
       "    <tr>\n",
       "      <th>12</th>\n",
       "      <td>Stephany</td>\n",
       "      <td>26</td>\n",
       "      <td>10.0</td>\n",
       "      <td>True</td>\n",
       "    </tr>\n",
       "    <tr>\n",
       "      <th>13</th>\n",
       "      <td>Miriam</td>\n",
       "      <td>25</td>\n",
       "      <td>9.0</td>\n",
       "      <td>True</td>\n",
       "    </tr>\n",
       "    <tr>\n",
       "      <th>15</th>\n",
       "      <td>Milena</td>\n",
       "      <td>29</td>\n",
       "      <td>7.0</td>\n",
       "      <td>True</td>\n",
       "    </tr>\n",
       "    <tr>\n",
       "      <th>17</th>\n",
       "      <td>Nadia</td>\n",
       "      <td>34</td>\n",
       "      <td>8.0</td>\n",
       "      <td>True</td>\n",
       "    </tr>\n",
       "  </tbody>\n",
       "</table>\n",
       "</div>"
      ]
     },
     "execution_count": 114,
     "metadata": {},
     "output_type": "execute_result"
    }
   ],
   "execution_count": 114
  },
  {
   "metadata": {
    "ExecuteTime": {
     "end_time": "2025-10-24T20:28:18.674763Z",
     "start_time": "2025-10-24T20:28:18.661930Z"
    }
   },
   "cell_type": "code",
   "source": [
    "# 4. Guardar DataFrame en archivo CSV\n",
    "df_aprobado.to_csv('./data/alumnos_aprobados.csv', index=False)"
   ],
   "id": "86d4a1983f0452ac",
   "outputs": [],
   "execution_count": 115
  }
 ],
 "metadata": {
  "kernelspec": {
   "display_name": "Python 3",
   "language": "python",
   "name": "python3"
  },
  "language_info": {
   "codemirror_mode": {
    "name": "ipython",
    "version": 2
   },
   "file_extension": ".py",
   "mimetype": "text/x-python",
   "name": "python",
   "nbconvert_exporter": "python",
   "pygments_lexer": "ipython2",
   "version": "2.7.6"
  }
 },
 "nbformat": 4,
 "nbformat_minor": 5
}
