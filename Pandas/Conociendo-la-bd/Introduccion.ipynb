{
 "cells": [
  {
   "metadata": {},
   "cell_type": "markdown",
   "source": [
    "# Pandas\n",
    "Es una biblioteca de Python que proporciona estructuras de datos y herramientas de análisis de datos de alto rendimiento y fáciles de usar. Es especialmente útil para trabajar con datos tabulares, como hojas de cálculo o bases de datos."
   ],
   "id": "e89fde2092fc79d9"
  },
  {
   "metadata": {},
   "cell_type": "markdown",
   "source": [
    "# Lo que veremos en esta sección\n",
    "\n",
    "Breve introducción: en esta sección cubriremos los temas clave que debemos abordar para entender el contexto, los objetivos y los pasos a seguir. Aquí tienes un resumen visual y una lista organizada para guiar la sesión.\n",
    "\n",
    "<!-- Imagen con texto alternativo y estilo responsivo -->\n",
    "<figure>\n",
    "  <img src=\"./source/temas_abordar.png\" alt=\"Resumen visual de los temas a abordar\" style=\"max-width:100%;height:auto;\">\n",
    "  <figcaption>Figura 1 — Temas que abordaremos en esta sección.</figcaption>\n",
    "</figure>\n",
    "\n",
    "## Objetivos de aprendizaje\n",
    "- Comprender el alcance y los objetivos del proyecto.\n",
    "- Identificar las prioridades y los temas técnicos clave.\n",
    "- Acordar próximos pasos y responsables."
   ],
   "id": "252daf432af2ce60"
  }
 ],
 "metadata": {
  "kernelspec": {
   "display_name": "Python 3",
   "language": "python",
   "name": "python3"
  },
  "language_info": {
   "codemirror_mode": {
    "name": "ipython",
    "version": 2
   },
   "file_extension": ".py",
   "mimetype": "text/x-python",
   "name": "python",
   "nbconvert_exporter": "python",
   "pygments_lexer": "ipython2",
   "version": "2.7.6"
  }
 },
 "nbformat": 4,
 "nbformat_minor": 5
}
