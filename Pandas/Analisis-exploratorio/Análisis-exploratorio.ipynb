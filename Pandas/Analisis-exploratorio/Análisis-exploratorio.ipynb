{
 "cells": [
  {
   "metadata": {
    "ExecuteTime": {
     "end_time": "2025-10-24T17:44:15.482313Z",
     "start_time": "2025-10-24T17:44:15.470376Z"
    }
   },
   "cell_type": "code",
   "source": "import pandas as pd",
   "id": "b6f0113c5b40ae6a",
   "outputs": [],
   "execution_count": 2
  },
  {
   "metadata": {
    "ExecuteTime": {
     "end_time": "2025-10-24T17:44:16.136675Z",
     "start_time": "2025-10-24T17:44:15.536428Z"
    }
   },
   "cell_type": "code",
   "source": [
    "url = (\"https://gist.githubusercontent.com/ahcamachod/a572cfcc2527046db93101f88011b26e/raw/ffb13f45a79d31223e645611a119397dd127ee3c/alquiler.csv\")\n",
    "df = pd.read_csv(url,sep=';')"
   ],
   "id": "d837b2e6b32de9bc",
   "outputs": [],
   "execution_count": 3
  },
  {
   "metadata": {},
   "cell_type": "markdown",
   "source": [
    "##  **Análisis Exploratorio de Datos (EDA)**\n",
    "El proceso de Análisis Exploratorio de Datos (EDA) consiste en comprender cómo están estructurados los datos que queremos analizar.\n",
    "\n",
    "Es un proceso de naturaleza investigativa, donde intentamos entender diversas características, como: los valores presentes en las columnas, los tipos de estructura de datos, verificar si son datos cualitativos o cuantitativos, si hay valores faltantes o inusuales."
   ],
   "id": "ff9c6078240d3afb"
  },
  {
   "metadata": {},
   "cell_type": "markdown",
   "source": [
    "## **Demandas de ML**\n",
    "#### ¿Cuáles son los valores promedio de alquiler por tipo de propiedad?"
   ],
   "id": "4a6980cd8a595b82"
  },
  {
   "metadata": {
    "ExecuteTime": {
     "end_time": "2025-10-24T17:47:56.334654Z",
     "start_time": "2025-10-24T17:47:56.319935Z"
    }
   },
   "cell_type": "code",
   "source": "df.head(2)",
   "id": "8f2abd6117867d8e",
   "outputs": [
    {
     "data": {
      "text/plain": [
       "       Tipo  Colonia  Habitaciones  Garages  Suites  Area    Valor  \\\n",
       "0  Cocineta  Condesa             1        0       0    40   5950.0   \n",
       "1      Casa  Polanco             2        0       1   100  24500.0   \n",
       "\n",
       "   Condominio  Impuesto  \n",
       "0      1750.0     210.0  \n",
       "1         NaN       NaN  "
      ],
      "text/html": [
       "<div>\n",
       "<style scoped>\n",
       "    .dataframe tbody tr th:only-of-type {\n",
       "        vertical-align: middle;\n",
       "    }\n",
       "\n",
       "    .dataframe tbody tr th {\n",
       "        vertical-align: top;\n",
       "    }\n",
       "\n",
       "    .dataframe thead th {\n",
       "        text-align: right;\n",
       "    }\n",
       "</style>\n",
       "<table border=\"1\" class=\"dataframe\">\n",
       "  <thead>\n",
       "    <tr style=\"text-align: right;\">\n",
       "      <th></th>\n",
       "      <th>Tipo</th>\n",
       "      <th>Colonia</th>\n",
       "      <th>Habitaciones</th>\n",
       "      <th>Garages</th>\n",
       "      <th>Suites</th>\n",
       "      <th>Area</th>\n",
       "      <th>Valor</th>\n",
       "      <th>Condominio</th>\n",
       "      <th>Impuesto</th>\n",
       "    </tr>\n",
       "  </thead>\n",
       "  <tbody>\n",
       "    <tr>\n",
       "      <th>0</th>\n",
       "      <td>Cocineta</td>\n",
       "      <td>Condesa</td>\n",
       "      <td>1</td>\n",
       "      <td>0</td>\n",
       "      <td>0</td>\n",
       "      <td>40</td>\n",
       "      <td>5950.0</td>\n",
       "      <td>1750.0</td>\n",
       "      <td>210.0</td>\n",
       "    </tr>\n",
       "    <tr>\n",
       "      <th>1</th>\n",
       "      <td>Casa</td>\n",
       "      <td>Polanco</td>\n",
       "      <td>2</td>\n",
       "      <td>0</td>\n",
       "      <td>1</td>\n",
       "      <td>100</td>\n",
       "      <td>24500.0</td>\n",
       "      <td>NaN</td>\n",
       "      <td>NaN</td>\n",
       "    </tr>\n",
       "  </tbody>\n",
       "</table>\n",
       "</div>"
      ]
     },
     "execution_count": 11,
     "metadata": {},
     "output_type": "execute_result"
    }
   ],
   "execution_count": 11
  },
  {
   "metadata": {
    "ExecuteTime": {
     "end_time": "2025-10-24T17:47:18.608090Z",
     "start_time": "2025-10-24T17:47:18.585560Z"
    }
   },
   "cell_type": "code",
   "source": "df.groupby('Tipo')['Valor'].mean(numeric_only=True)",
   "id": "8ab41b31188c770d",
   "outputs": [
    {
     "data": {
      "text/plain": [
       "Tipo\n",
       "Casa                           31453.177064\n",
       "Casa Comercial                 54735.841584\n",
       "Casa de Condominio             51428.609836\n",
       "Casa de Vecindad                5961.740506\n",
       "Cochera/Estacionamiento         6995.454545\n",
       "Cocineta                        4425.856061\n",
       "Conjunto Comercial/Sala        57675.214550\n",
       "Departamento                   18683.269431\n",
       "Departamento en Hotel          16285.430769\n",
       "Edificio Completo             409418.080645\n",
       "Estudio                         8400.000000\n",
       "Galpón/Depósito/Almacén       299984.140138\n",
       "Hotel                          87500.000000\n",
       "Industria                     420000.000000\n",
       "Loft                            9924.526316\n",
       "Loteo/Condominio               92166.666667\n",
       "Posada/Chalé                    5180.000000\n",
       "Rancho                         38014.375000\n",
       "Terreno Estándar              135364.444444\n",
       "Tienda en Centro Comercial     32556.785714\n",
       "Tienda/Salón                   56263.544252\n",
       "Name: Valor, dtype: float64"
      ]
     },
     "execution_count": 10,
     "metadata": {},
     "output_type": "execute_result"
    }
   ],
   "execution_count": 10
  },
  {
   "metadata": {
    "ExecuteTime": {
     "end_time": "2025-10-24T17:48:53.391028Z",
     "start_time": "2025-10-24T17:48:53.356021Z"
    }
   },
   "cell_type": "code",
   "source": "df.groupby('Tipo')[['Valor']].mean(numeric_only=True).sort_values(by='Valor', ascending=False)\n",
   "id": "d262ada3f697261a",
   "outputs": [
    {
     "data": {
      "text/plain": [
       "                                    Valor\n",
       "Tipo                                     \n",
       "Industria                   420000.000000\n",
       "Edificio Completo           409418.080645\n",
       "Galpón/Depósito/Almacén     299984.140138\n",
       "Terreno Estándar            135364.444444\n",
       "Loteo/Condominio             92166.666667\n",
       "Hotel                        87500.000000\n",
       "Conjunto Comercial/Sala      57675.214550\n",
       "Tienda/Salón                 56263.544252\n",
       "Casa Comercial               54735.841584\n",
       "Casa de Condominio           51428.609836\n",
       "Rancho                       38014.375000\n",
       "Tienda en Centro Comercial   32556.785714\n",
       "Casa                         31453.177064\n",
       "Departamento                 18683.269431\n",
       "Departamento en Hotel        16285.430769\n",
       "Loft                          9924.526316\n",
       "Estudio                       8400.000000\n",
       "Cochera/Estacionamiento       6995.454545\n",
       "Casa de Vecindad              5961.740506\n",
       "Posada/Chalé                  5180.000000\n",
       "Cocineta                      4425.856061"
      ],
      "text/html": [
       "<div>\n",
       "<style scoped>\n",
       "    .dataframe tbody tr th:only-of-type {\n",
       "        vertical-align: middle;\n",
       "    }\n",
       "\n",
       "    .dataframe tbody tr th {\n",
       "        vertical-align: top;\n",
       "    }\n",
       "\n",
       "    .dataframe thead th {\n",
       "        text-align: right;\n",
       "    }\n",
       "</style>\n",
       "<table border=\"1\" class=\"dataframe\">\n",
       "  <thead>\n",
       "    <tr style=\"text-align: right;\">\n",
       "      <th></th>\n",
       "      <th>Valor</th>\n",
       "    </tr>\n",
       "    <tr>\n",
       "      <th>Tipo</th>\n",
       "      <th></th>\n",
       "    </tr>\n",
       "  </thead>\n",
       "  <tbody>\n",
       "    <tr>\n",
       "      <th>Industria</th>\n",
       "      <td>420000.000000</td>\n",
       "    </tr>\n",
       "    <tr>\n",
       "      <th>Edificio Completo</th>\n",
       "      <td>409418.080645</td>\n",
       "    </tr>\n",
       "    <tr>\n",
       "      <th>Galpón/Depósito/Almacén</th>\n",
       "      <td>299984.140138</td>\n",
       "    </tr>\n",
       "    <tr>\n",
       "      <th>Terreno Estándar</th>\n",
       "      <td>135364.444444</td>\n",
       "    </tr>\n",
       "    <tr>\n",
       "      <th>Loteo/Condominio</th>\n",
       "      <td>92166.666667</td>\n",
       "    </tr>\n",
       "    <tr>\n",
       "      <th>Hotel</th>\n",
       "      <td>87500.000000</td>\n",
       "    </tr>\n",
       "    <tr>\n",
       "      <th>Conjunto Comercial/Sala</th>\n",
       "      <td>57675.214550</td>\n",
       "    </tr>\n",
       "    <tr>\n",
       "      <th>Tienda/Salón</th>\n",
       "      <td>56263.544252</td>\n",
       "    </tr>\n",
       "    <tr>\n",
       "      <th>Casa Comercial</th>\n",
       "      <td>54735.841584</td>\n",
       "    </tr>\n",
       "    <tr>\n",
       "      <th>Casa de Condominio</th>\n",
       "      <td>51428.609836</td>\n",
       "    </tr>\n",
       "    <tr>\n",
       "      <th>Rancho</th>\n",
       "      <td>38014.375000</td>\n",
       "    </tr>\n",
       "    <tr>\n",
       "      <th>Tienda en Centro Comercial</th>\n",
       "      <td>32556.785714</td>\n",
       "    </tr>\n",
       "    <tr>\n",
       "      <th>Casa</th>\n",
       "      <td>31453.177064</td>\n",
       "    </tr>\n",
       "    <tr>\n",
       "      <th>Departamento</th>\n",
       "      <td>18683.269431</td>\n",
       "    </tr>\n",
       "    <tr>\n",
       "      <th>Departamento en Hotel</th>\n",
       "      <td>16285.430769</td>\n",
       "    </tr>\n",
       "    <tr>\n",
       "      <th>Loft</th>\n",
       "      <td>9924.526316</td>\n",
       "    </tr>\n",
       "    <tr>\n",
       "      <th>Estudio</th>\n",
       "      <td>8400.000000</td>\n",
       "    </tr>\n",
       "    <tr>\n",
       "      <th>Cochera/Estacionamiento</th>\n",
       "      <td>6995.454545</td>\n",
       "    </tr>\n",
       "    <tr>\n",
       "      <th>Casa de Vecindad</th>\n",
       "      <td>5961.740506</td>\n",
       "    </tr>\n",
       "    <tr>\n",
       "      <th>Posada/Chalé</th>\n",
       "      <td>5180.000000</td>\n",
       "    </tr>\n",
       "    <tr>\n",
       "      <th>Cocineta</th>\n",
       "      <td>4425.856061</td>\n",
       "    </tr>\n",
       "  </tbody>\n",
       "</table>\n",
       "</div>"
      ]
     },
     "execution_count": 12,
     "metadata": {},
     "output_type": "execute_result"
    }
   ],
   "execution_count": 12
  },
  {
   "metadata": {
    "ExecuteTime": {
     "end_time": "2025-10-24T17:56:04.550211Z",
     "start_time": "2025-10-24T17:56:04.528555Z"
    }
   },
   "cell_type": "code",
   "source": "df_tipo_precio = df.groupby('Tipo')[['Valor']].mean(numeric_only=True).sort_values(by='Valor', ascending=False)",
   "id": "cf76ff4f971c8800",
   "outputs": [],
   "execution_count": 15
  },
  {
   "metadata": {
    "ExecuteTime": {
     "end_time": "2025-10-24T17:56:08.015461Z",
     "start_time": "2025-10-24T17:56:06.030482Z"
    }
   },
   "cell_type": "code",
   "source": "df_tipo_precio.plot(kind='barh',figsize=(12,8),color = 'purple')",
   "id": "21ea3d27de16e5c0",
   "outputs": [
    {
     "data": {
      "text/plain": [
       "<Axes: ylabel='Tipo'>"
      ]
     },
     "execution_count": 16,
     "metadata": {},
     "output_type": "execute_result"
    },
    {
     "data": {
      "text/plain": [
       "<Figure size 1200x800 with 1 Axes>"
      ],
      "image/png": "[encoded data removed]"
     },
     "metadata": {},
     "output_type": "display_data",
     "jetTransient": {
      "display_id": null
     }
    }
   ],
   "execution_count": 16
  },
  {
   "metadata": {},
   "cell_type": "markdown",
   "source": [
    "## El método groupby\n",
    "Permite agrupar y resumir datos de un DataFrame basado en uno o más criterios. Estos criterios pueden ser variables numéricas o categóricas, como columnas o índices del DataFrame.\n",
    "\n",
    "Este método tiene varios parámetros, algunos de los cuales son:\n",
    "\n",
    "- by: Este es el parámetro más común y se utiliza para especificar la columna o columnas por las cuales queremos agrupar. Como argumento, podemos pasar el nombre de una columna o una lista de nombres de columnas;\n",
    "\n",
    "- axis: Utilizamos este parámetro para especificar el eje a lo largo del cual queremos agrupar. El valor predeterminado es 0, lo que significa que se agruparán las filas. Si deseamos agrupar las columnas, debemos establecer este parámetro en 1;\n",
    "\n",
    "- sort: Este parámetro es un booleano (True o False) que indica si los grupos deben ordenarse por el valor de la columna de agrupación. El valor predeterminado es True;\n",
    "\n",
    "- dropna: Utilizamos este parámetro para controlar si los valores faltantes (NaN) se eliminarán o no durante el proceso de agrupación. El valor predeterminado es True."
   ],
   "id": "5e8397618ccf25b4"
  },
  {
   "metadata": {
    "ExecuteTime": {
     "end_time": "2025-10-24T18:05:03.493003Z",
     "start_time": "2025-10-24T18:05:03.472181Z"
    }
   },
   "cell_type": "code",
   "source": "df.Tipo.unique()",
   "id": "c3c5a7f43843be4a",
   "outputs": [
    {
     "data": {
      "text/plain": [
       "array(['Cocineta', 'Casa', 'Conjunto Comercial/Sala', 'Departamento',\n",
       "       'Casa de Condominio', 'Edificio Completo', 'Departamento en Hotel',\n",
       "       'Tienda/Salón', 'Casa Comercial', 'Casa de Vecindad',\n",
       "       'Terreno Estándar', 'Cochera/Estacionamiento', 'Loft',\n",
       "       'Galpón/Depósito/Almacén', 'Tienda en Centro Comercial', 'Rancho',\n",
       "       'Posada/Chalé', 'Estudio', 'Hotel', 'Loteo/Condominio',\n",
       "       'Industria'], dtype=object)"
      ]
     },
     "execution_count": 26,
     "metadata": {},
     "output_type": "execute_result"
    }
   ],
   "execution_count": 26
  },
  {
   "metadata": {
    "ExecuteTime": {
     "end_time": "2025-10-24T18:05:56.195956Z",
     "start_time": "2025-10-24T18:05:56.184483Z"
    }
   },
   "cell_type": "code",
   "source": [
    "inmuebles_comerciales = ['Conjunto Comercial/Sala',\n",
    "      'Edificio Completo', 'Departamento en Hotel',\n",
    "       'Tienda/Salón', 'Casa Comercial', 'Casa de Vecindad',\n",
    "       'Terreno Estándar', 'Cochera/Estacionamiento', 'Loft',\n",
    "       'Galpón/Depósito/Almacén', 'Tienda en Centro Comercial', 'Rancho',\n",
    "       'Posada/Chalé', 'Estudio', 'Hotel', 'Loteo/Condominio',\n",
    "       'Industria']"
   ],
   "id": "d882f7c2667694be",
   "outputs": [],
   "execution_count": 27
  },
  {
   "metadata": {
    "ExecuteTime": {
     "end_time": "2025-10-24T18:06:01.889487Z",
     "start_time": "2025-10-24T18:06:01.860066Z"
    }
   },
   "cell_type": "code",
   "source": [
    "# Ahora vamos a empezar a filtrar\n",
    "df.query('@inmuebles_comerciales not in Tipo')"
   ],
   "id": "413b5aaa09d9f698",
   "outputs": [
    {
     "data": {
      "text/plain": [
       "                     Tipo               Colonia  Habitaciones  Garages  \\\n",
       "0                Cocineta               Condesa             1        0   \n",
       "1                    Casa               Polanco             2        0   \n",
       "3            Departamento      Centro Histórico             1        0   \n",
       "4            Departamento             Del Valle             1        0   \n",
       "5      Casa de Condominio              Santa Fe             5        4   \n",
       "...                   ...                   ...           ...      ...   \n",
       "25114        Departamento              Narvarte             1        0   \n",
       "25115  Casa de Condominio              Santa Fe             5        3   \n",
       "25117            Cocineta      Centro Histórico             0        0   \n",
       "25118        Departamento               Mixcoac             2        1   \n",
       "25119        Departamento  Lomas de Chapultepec             2        0   \n",
       "\n",
       "       Suites  Area    Valor  Condominio  Impuesto  \n",
       "0           0    40   5950.0      1750.0     210.0  \n",
       "1           1   100  24500.0         NaN       NaN  \n",
       "3           0    15   2800.0      1365.0      70.0  \n",
       "4           0    48   2800.0       805.0       NaN  \n",
       "5           5   750  77000.0         NaN       NaN  \n",
       "...       ...   ...      ...         ...       ...  \n",
       "25114       0    28   3500.0      1260.0      87.5  \n",
       "25115       4   450  52500.0      5988.5    8162.0  \n",
       "25117       0    27   2800.0      1225.0      87.5  \n",
       "25118       0    48   4900.0      1781.5     129.5  \n",
       "25119       0    70  10500.0      2660.0       NaN  \n",
       "\n",
       "[16645 rows x 9 columns]"
      ],
      "text/html": [
       "<div>\n",
       "<style scoped>\n",
       "    .dataframe tbody tr th:only-of-type {\n",
       "        vertical-align: middle;\n",
       "    }\n",
       "\n",
       "    .dataframe tbody tr th {\n",
       "        vertical-align: top;\n",
       "    }\n",
       "\n",
       "    .dataframe thead th {\n",
       "        text-align: right;\n",
       "    }\n",
       "</style>\n",
       "<table border=\"1\" class=\"dataframe\">\n",
       "  <thead>\n",
       "    <tr style=\"text-align: right;\">\n",
       "      <th></th>\n",
       "      <th>Tipo</th>\n",
       "      <th>Colonia</th>\n",
       "      <th>Habitaciones</th>\n",
       "      <th>Garages</th>\n",
       "      <th>Suites</th>\n",
       "      <th>Area</th>\n",
       "      <th>Valor</th>\n",
       "      <th>Condominio</th>\n",
       "      <th>Impuesto</th>\n",
       "    </tr>\n",
       "  </thead>\n",
       "  <tbody>\n",
       "    <tr>\n",
       "      <th>0</th>\n",
       "      <td>Cocineta</td>\n",
       "      <td>Condesa</td>\n",
       "      <td>1</td>\n",
       "      <td>0</td>\n",
       "      <td>0</td>\n",
       "      <td>40</td>\n",
       "      <td>5950.0</td>\n",
       "      <td>1750.0</td>\n",
       "      <td>210.0</td>\n",
       "    </tr>\n",
       "    <tr>\n",
       "      <th>1</th>\n",
       "      <td>Casa</td>\n",
       "      <td>Polanco</td>\n",
       "      <td>2</td>\n",
       "      <td>0</td>\n",
       "      <td>1</td>\n",
       "      <td>100</td>\n",
       "      <td>24500.0</td>\n",
       "      <td>NaN</td>\n",
       "      <td>NaN</td>\n",
       "    </tr>\n",
       "    <tr>\n",
       "      <th>3</th>\n",
       "      <td>Departamento</td>\n",
       "      <td>Centro Histórico</td>\n",
       "      <td>1</td>\n",
       "      <td>0</td>\n",
       "      <td>0</td>\n",
       "      <td>15</td>\n",
       "      <td>2800.0</td>\n",
       "      <td>1365.0</td>\n",
       "      <td>70.0</td>\n",
       "    </tr>\n",
       "    <tr>\n",
       "      <th>4</th>\n",
       "      <td>Departamento</td>\n",
       "      <td>Del Valle</td>\n",
       "      <td>1</td>\n",
       "      <td>0</td>\n",
       "      <td>0</td>\n",
       "      <td>48</td>\n",
       "      <td>2800.0</td>\n",
       "      <td>805.0</td>\n",
       "      <td>NaN</td>\n",
       "    </tr>\n",
       "    <tr>\n",
       "      <th>5</th>\n",
       "      <td>Casa de Condominio</td>\n",
       "      <td>Santa Fe</td>\n",
       "      <td>5</td>\n",
       "      <td>4</td>\n",
       "      <td>5</td>\n",
       "      <td>750</td>\n",
       "      <td>77000.0</td>\n",
       "      <td>NaN</td>\n",
       "      <td>NaN</td>\n",
       "    </tr>\n",
       "    <tr>\n",
       "      <th>...</th>\n",
       "      <td>...</td>\n",
       "      <td>...</td>\n",
       "      <td>...</td>\n",
       "      <td>...</td>\n",
       "      <td>...</td>\n",
       "      <td>...</td>\n",
       "      <td>...</td>\n",
       "      <td>...</td>\n",
       "      <td>...</td>\n",
       "    </tr>\n",
       "    <tr>\n",
       "      <th>25114</th>\n",
       "      <td>Departamento</td>\n",
       "      <td>Narvarte</td>\n",
       "      <td>1</td>\n",
       "      <td>0</td>\n",
       "      <td>0</td>\n",
       "      <td>28</td>\n",
       "      <td>3500.0</td>\n",
       "      <td>1260.0</td>\n",
       "      <td>87.5</td>\n",
       "    </tr>\n",
       "    <tr>\n",
       "      <th>25115</th>\n",
       "      <td>Casa de Condominio</td>\n",
       "      <td>Santa Fe</td>\n",
       "      <td>5</td>\n",
       "      <td>3</td>\n",
       "      <td>4</td>\n",
       "      <td>450</td>\n",
       "      <td>52500.0</td>\n",
       "      <td>5988.5</td>\n",
       "      <td>8162.0</td>\n",
       "    </tr>\n",
       "    <tr>\n",
       "      <th>25117</th>\n",
       "      <td>Cocineta</td>\n",
       "      <td>Centro Histórico</td>\n",
       "      <td>0</td>\n",
       "      <td>0</td>\n",
       "      <td>0</td>\n",
       "      <td>27</td>\n",
       "      <td>2800.0</td>\n",
       "      <td>1225.0</td>\n",
       "      <td>87.5</td>\n",
       "    </tr>\n",
       "    <tr>\n",
       "      <th>25118</th>\n",
       "      <td>Departamento</td>\n",
       "      <td>Mixcoac</td>\n",
       "      <td>2</td>\n",
       "      <td>1</td>\n",
       "      <td>0</td>\n",
       "      <td>48</td>\n",
       "      <td>4900.0</td>\n",
       "      <td>1781.5</td>\n",
       "      <td>129.5</td>\n",
       "    </tr>\n",
       "    <tr>\n",
       "      <th>25119</th>\n",
       "      <td>Departamento</td>\n",
       "      <td>Lomas de Chapultepec</td>\n",
       "      <td>2</td>\n",
       "      <td>0</td>\n",
       "      <td>0</td>\n",
       "      <td>70</td>\n",
       "      <td>10500.0</td>\n",
       "      <td>2660.0</td>\n",
       "      <td>NaN</td>\n",
       "    </tr>\n",
       "  </tbody>\n",
       "</table>\n",
       "<p>16645 rows × 9 columns</p>\n",
       "</div>"
      ]
     },
     "execution_count": 28,
     "metadata": {},
     "output_type": "execute_result"
    }
   ],
   "execution_count": 28
  },
  {
   "metadata": {
    "ExecuteTime": {
     "end_time": "2025-10-24T18:30:42.435204Z",
     "start_time": "2025-10-24T18:30:42.418247Z"
    }
   },
   "cell_type": "code",
   "source": "df_residencial = df.query('@inmuebles_comerciales not in Tipo')",
   "id": "cd14ea39870a572",
   "outputs": [],
   "execution_count": 44
  },
  {
   "metadata": {
    "ExecuteTime": {
     "end_time": "2025-10-24T18:23:15.646305Z",
     "start_time": "2025-10-24T18:23:15.488595Z"
    }
   },
   "cell_type": "code",
   "source": [
    "df_residencial = df_residencial.groupby('Tipo')[['Valor']].mean(numeric_only=True).sort_values(by='Valor', ascending=False)\n",
    "df_residencial.plot(kind='barh',figsize=(12,8),color = 'purple')"
   ],
   "id": "698c7c0f5e07b6e8",
   "outputs": [
    {
     "data": {
      "text/plain": [
       "<Axes: ylabel='Tipo'>"
      ]
     },
     "execution_count": 34,
     "metadata": {},
     "output_type": "execute_result"
    },
    {
     "data": {
      "text/plain": [
       "<Figure size 1200x800 with 1 Axes>"
      ],
      "image/png": "[encoded data removed]"
     },
     "metadata": {},
     "output_type": "display_data",
     "jetTransient": {
      "display_id": null
     }
    }
   ],
   "execution_count": 34
  },
  {
   "metadata": {},
   "cell_type": "markdown",
   "source": "## Porcentaje de cada tipo de inmueble presente en la base de datos.",
   "id": "e83846be8c1d98b2"
  },
  {
   "metadata": {
    "ExecuteTime": {
     "end_time": "2025-10-24T18:30:44.678393Z",
     "start_time": "2025-10-24T18:30:44.657392Z"
    }
   },
   "cell_type": "code",
   "source": "df_residencial.Tipo.value_counts(normalize=True)",
   "id": "d48709d9cab35078",
   "outputs": [
    {
     "data": {
      "text/plain": [
       "Tipo\n",
       "Departamento          0.886993\n",
       "Cocineta              0.043617\n",
       "Casa de Condominio    0.036648\n",
       "Casa                  0.032743\n",
       "Name: proportion, dtype: float64"
      ]
     },
     "execution_count": 45,
     "metadata": {},
     "output_type": "execute_result"
    }
   ],
   "execution_count": 45
  },
  {
   "metadata": {
    "ExecuteTime": {
     "end_time": "2025-10-24T18:32:05.566104Z",
     "start_time": "2025-10-24T18:32:05.523280Z"
    }
   },
   "cell_type": "code",
   "source": [
    "# Vamos a normalizar los datos\n",
    "df_residencial.query('Tipo == \"Departamento\"')\n",
    "df.head(2)"
   ],
   "id": "a14700e8f35853f5",
   "outputs": [
    {
     "data": {
      "text/plain": [
       "       Tipo  Colonia  Habitaciones  Garages  Suites  Area    Valor  \\\n",
       "0  Cocineta  Condesa             1        0       0    40   5950.0   \n",
       "1      Casa  Polanco             2        0       1   100  24500.0   \n",
       "\n",
       "   Condominio  Impuesto  \n",
       "0      1750.0     210.0  \n",
       "1         NaN       NaN  "
      ],
      "text/html": [
       "<div>\n",
       "<style scoped>\n",
       "    .dataframe tbody tr th:only-of-type {\n",
       "        vertical-align: middle;\n",
       "    }\n",
       "\n",
       "    .dataframe tbody tr th {\n",
       "        vertical-align: top;\n",
       "    }\n",
       "\n",
       "    .dataframe thead th {\n",
       "        text-align: right;\n",
       "    }\n",
       "</style>\n",
       "<table border=\"1\" class=\"dataframe\">\n",
       "  <thead>\n",
       "    <tr style=\"text-align: right;\">\n",
       "      <th></th>\n",
       "      <th>Tipo</th>\n",
       "      <th>Colonia</th>\n",
       "      <th>Habitaciones</th>\n",
       "      <th>Garages</th>\n",
       "      <th>Suites</th>\n",
       "      <th>Area</th>\n",
       "      <th>Valor</th>\n",
       "      <th>Condominio</th>\n",
       "      <th>Impuesto</th>\n",
       "    </tr>\n",
       "  </thead>\n",
       "  <tbody>\n",
       "    <tr>\n",
       "      <th>0</th>\n",
       "      <td>Cocineta</td>\n",
       "      <td>Condesa</td>\n",
       "      <td>1</td>\n",
       "      <td>0</td>\n",
       "      <td>0</td>\n",
       "      <td>40</td>\n",
       "      <td>5950.0</td>\n",
       "      <td>1750.0</td>\n",
       "      <td>210.0</td>\n",
       "    </tr>\n",
       "    <tr>\n",
       "      <th>1</th>\n",
       "      <td>Casa</td>\n",
       "      <td>Polanco</td>\n",
       "      <td>2</td>\n",
       "      <td>0</td>\n",
       "      <td>1</td>\n",
       "      <td>100</td>\n",
       "      <td>24500.0</td>\n",
       "      <td>NaN</td>\n",
       "      <td>NaN</td>\n",
       "    </tr>\n",
       "  </tbody>\n",
       "</table>\n",
       "</div>"
      ]
     },
     "execution_count": 47,
     "metadata": {},
     "output_type": "execute_result"
    }
   ],
   "execution_count": 47
  },
  {
   "metadata": {
    "ExecuteTime": {
     "end_time": "2025-10-24T18:34:51.633398Z",
     "start_time": "2025-10-24T18:34:51.449150Z"
    }
   },
   "cell_type": "code",
   "source": [
    "porcentaje_tipo = df_residencial.Tipo.value_counts(normalize=True).to_frame()\n",
    "porcentaje_tipo.plot(kind = 'bar',figsize=(12,8),color='green',xlabel='Tipo de Inmueble',ylabel='Porcentaje')"
   ],
   "id": "b1e847a48933e0aa",
   "outputs": [
    {
     "data": {
      "text/plain": [
       "<Axes: xlabel='Tipo de Inmueble', ylabel='Porcentaje'>"
      ]
     },
     "execution_count": 50,
     "metadata": {},
     "output_type": "execute_result"
    },
    {
     "data": {
      "text/plain": [
       "<Figure size 1200x800 with 1 Axes>"
      ],
      "image/png": "[encoded data removed]"
     },
     "metadata": {},
     "output_type": "display_data",
     "jetTransient": {
      "display_id": null
     }
    }
   ],
   "execution_count": 50
  },
  {
   "metadata": {},
   "cell_type": "markdown",
   "source": "> El método rename() para cambiar el nombre de esa columna. Este método nos permite especificar un diccionario que asocia el nombre antiguo de la columna con el nuevo nombre que deseamos asignar.",
   "id": "2a61e65c5a51daa"
  },
  {
   "metadata": {},
   "cell_type": "markdown",
   "source": [
    "### Desafío: vamos a practicar\n",
    "- Calcular el promedio de habitaciones por departamento.\n",
    "- Verificar cuántas colonias únicas existen en nuestra base de datos.\n",
    "- Analizar qué colonias tienen el promedio de alquiler más alto.\n",
    "- Crear un gráfico de barras horizontales que muestre las 5 colonias con los promedios de alquiler más altos."
   ],
   "id": "17210b263d744345"
  },
  {
   "metadata": {
    "ExecuteTime": {
     "end_time": "2025-10-24T19:03:07.850706Z",
     "start_time": "2025-10-24T19:03:07.835795Z"
    }
   },
   "cell_type": "code",
   "source": [
    "# 1. Calcular el promedio de habitaciones por departamento.\n",
    "df['Habitaciones'].mean()"
   ],
   "id": "b2751b8c475fc85b",
   "outputs": [
    {
     "data": {
      "text/plain": [
       "np.float64(1.7488555391903189)"
      ]
     },
     "execution_count": 66,
     "metadata": {},
     "output_type": "execute_result"
    }
   ],
   "execution_count": 66
  },
  {
   "metadata": {
    "ExecuteTime": {
     "end_time": "2025-10-24T19:03:15.468903Z",
     "start_time": "2025-10-24T19:03:15.459372Z"
    }
   },
   "cell_type": "code",
   "source": [
    "# 2. Verificar cuántas colonias únicas existen en nuestra base de datos.\n",
    "print(f\"El total de colonias únicas son: {len(df.Colonia.unique())}\")"
   ],
   "id": "e59fc34dd5aeb4a5",
   "outputs": [
    {
     "name": "stdout",
     "output_type": "stream",
     "text": [
      "El total de colonias únicas son: 88\n"
     ]
    }
   ],
   "execution_count": 67
  },
  {
   "metadata": {
    "ExecuteTime": {
     "end_time": "2025-10-24T19:01:58.698926Z",
     "start_time": "2025-10-24T19:01:58.681841Z"
    }
   },
   "cell_type": "code",
   "source": [
    "# 3. Analizar qué colonias tienen el promedio de alquiler más alto.\n",
    "df_colonias = df.groupby('Colonia').mean(numeric_only=True).sort_values(by='Valor', ascending=False)[['Valor']]"
   ],
   "id": "a97135ef4cee74c8",
   "outputs": [],
   "execution_count": 61
  },
  {
   "metadata": {
    "ExecuteTime": {
     "end_time": "2025-10-24T19:04:04.197082Z",
     "start_time": "2025-10-24T19:04:04.047817Z"
    }
   },
   "cell_type": "code",
   "source": [
    "# 4. Crea un graficode barras horizontales que muestre las 5 colonias con los promedios de alquiler más altos.\n",
    "df_colonias.head(5).plot(kind = 'barh',figsize = (14,10),color = 'blue',xlabel = 'Colonias', ylabel = 'Promedio de Alquiler')"
   ],
   "id": "c4a3ad15c2dd0952",
   "outputs": [
    {
     "data": {
      "text/plain": [
       "<Axes: xlabel='Colonias', ylabel='Promedio de Alquiler'>"
      ]
     },
     "execution_count": 69,
     "metadata": {},
     "output_type": "execute_result"
    },
    {
     "data": {
      "text/plain": [
       "<Figure size 1400x1000 with 1 Axes>"
      ],
      "image/png": "[encoded data removed]"
     },
     "metadata": {},
     "output_type": "display_data",
     "jetTransient": {
      "display_id": null
     }
    }
   ],
   "execution_count": 69
  }
 ],
 "metadata": {
  "kernelspec": {
   "display_name": "Python 3",
   "language": "python",
   "name": "python3"
  },
  "language_info": {
   "codemirror_mode": {
    "name": "ipython",
    "version": 2
   },
   "file_extension": ".py",
   "mimetype": "text/x-python",
   "name": "python",
   "nbconvert_exporter": "python",
   "pygments_lexer": "ipython2",
   "version": "2.7.6"
  }
 },
 "nbformat": 4,
 "nbformat_minor": 5
}
